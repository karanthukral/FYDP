{
 "cells": [
  {
   "cell_type": "code",
   "execution_count": 1,
   "metadata": {
    "collapsed": false
   },
   "outputs": [],
   "source": [
    "import os\n",
    "import random\n",
    "import numpy as np\n",
    "from sklearn.model_selection import train_test_split\n",
    "from sklearn.ensemble import RandomForestClassifier\n",
    "\n",
    "DATA_DIR = '../local_data/features/'"
   ]
  },
  {
   "cell_type": "code",
   "execution_count": 2,
   "metadata": {
    "collapsed": false
   },
   "outputs": [
    {
     "name": "stdout",
     "output_type": "stream",
     "text": [
      "Accuracy = 99.424422926542 %\n",
      "Classification Report \n",
      "                  precision    recall  f1-score   support\n",
      "\n",
      "         Normal       1.00      1.00      1.00    500824\n",
      "    brute_force       1.00      0.98      0.99       524\n",
      "           ddos       0.94      0.55      0.70       907\n",
      "       internal       0.84      0.73      0.78      5112\n",
      "irc_botnet_ddos       0.97      0.96      0.96      9243\n",
      "ssh_brute_force       0.99      0.97      0.98      1305\n",
      "\n",
      "    avg / total       0.99      0.99      0.99    517915\n",
      "\n",
      "CPU times: user 8min 20s, sys: 3.17 s, total: 8min 23s\n",
      "Wall time: 1min 28s\n"
     ]
    }
   ],
   "source": [
    "%%time\n",
    "\n",
    "X = np.load(os.path.join(DATA_DIR, 'features.npy'))\n",
    "y = np.load(os.path.join(DATA_DIR, 'labels.npy'))[0]\n",
    "\n",
    "clf = RandomForestClassifier(n_estimators=25, n_jobs=-1)\n",
    "\n",
    "X_train, X_test, y_train, y_test = train_test_split(X, y, test_size=0.25)\n",
    "\n",
    "# Fit the model\n",
    "clf.fit(X_train, y_train)\n",
    "\n",
    "# Perform the predictions\n",
    "y_predicted = clf.predict(X_test)\n",
    "\n",
    "from sklearn.metrics import accuracy_score\n",
    "print(\"Accuracy = {} %\".format(accuracy_score(y_test, y_predicted)*100))\n",
    "\n",
    "from sklearn.metrics import classification_report\n",
    "print(\"Classification Report \\n {}\".format(classification_report(y_test, y_predicted)))"
   ]
  },
  {
   "cell_type": "code",
   "execution_count": null,
   "metadata": {
    "collapsed": true
   },
   "outputs": [],
   "source": []
  }
 ],
 "metadata": {
  "kernelspec": {
   "display_name": "Python 3",
   "language": "python",
   "name": "python3"
  },
  "language_info": {
   "codemirror_mode": {
    "name": "ipython",
    "version": 3
   },
   "file_extension": ".py",
   "mimetype": "text/x-python",
   "name": "python",
   "nbconvert_exporter": "python",
   "pygments_lexer": "ipython3",
   "version": "3.5.2"
  }
 },
 "nbformat": 4,
 "nbformat_minor": 1
}
