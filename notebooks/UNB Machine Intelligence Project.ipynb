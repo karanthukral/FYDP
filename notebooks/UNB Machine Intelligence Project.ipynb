{
 "cells": [
  {
   "cell_type": "code",
   "execution_count": 9,
   "metadata": {
    "collapsed": true
   },
   "outputs": [],
   "source": [
    "import os\n",
    "import random\n",
    "import numpy as np\n",
    "from sklearn.model_selection import train_test_split\n",
    "from sklearn.ensemble import RandomForestClassifier\n",
    "from sklearn import tree\n",
    "from sklearn.naive_bayes import MultinomialNB\n",
    "from sklearn import svm\n",
    "from sklearn.model_selection import cross_val_score\n",
    "#from sklearn.discriminant_analysis import LinearDiscriminantAnalysis\n",
    "\n",
    "DATA_DIR = '../local_data/features/'\n",
    "\n",
    "X = np.load(os.path.join(DATA_DIR, 'features.npy'))\n",
    "y = np.load(os.path.join(DATA_DIR, 'labels.npy'))[0]"
   ]
  },
  {
   "cell_type": "code",
   "execution_count": 14,
   "metadata": {
    "collapsed": true
   },
   "outputs": [],
   "source": [
    "def classify(clf, n_fold=False):\n",
    "    if n_fold == True:\n",
    "        scores = cross_val_score(clf, X, y, cv=3)\n",
    "        print(\"Accuracy: %0.4f (+/- %0.4f)\" % (scores.mean()*100, scores.std() * 200))\n",
    "    else:\n",
    "        X_train, X_test, y_train, y_test = train_test_split(X, y, test_size=0.25)\n",
    "\n",
    "        # Fit the model\n",
    "        clf.fit(X_train, y_train)\n",
    "\n",
    "        # Perform the predictions\n",
    "        y_predicted = clf.predict(X_test)\n",
    "\n",
    "        from sklearn.metrics import accuracy_score\n",
    "        print(\"Accuracy = {} %\".format(accuracy_score(y_test, y_predicted)*100))\n",
    "\n",
    "        from sklearn.metrics import classification_report\n",
    "        print(\"Classification Report \\n{}\".format(classification_report(y_test, y_predicted)))"
   ]
  },
  {
   "cell_type": "code",
   "execution_count": 15,
   "metadata": {
    "collapsed": false
   },
   "outputs": [
    {
     "name": "stdout",
     "output_type": "stream",
     "text": [
      "Accuracy = 98.19082281841615 %\n",
      "Classification Report \n",
      "                 precision    recall  f1-score   support\n",
      "\n",
      "         Normal       0.99      0.99      0.99    500626\n",
      "    brute_force       0.00      0.00      0.00       523\n",
      "           ddos       0.00      0.00      0.00       919\n",
      "       internal       0.49      0.59      0.53      5085\n",
      "irc_botnet_ddos       0.92      0.90      0.91      9522\n",
      "ssh_brute_force       0.00      0.00      0.00      1240\n",
      "\n",
      "    avg / total       0.98      0.98      0.98    517915\n",
      "\n",
      "CPU times: user 6.3 s, sys: 355 ms, total: 6.65 s\n",
      "Wall time: 6.8 s\n"
     ]
    },
    {
     "name": "stderr",
     "output_type": "stream",
     "text": [
      "/Users/karan/Development/src/github.com/karanthukral/FYDP/venv/lib/python3.5/site-packages/sklearn/metrics/classification.py:1113: UndefinedMetricWarning: Precision and F-score are ill-defined and being set to 0.0 in labels with no predicted samples.\n",
      "  'precision', 'predicted', average, warn_for)\n"
     ]
    }
   ],
   "source": [
    "%%time\n",
    "## Decision Tree Classifier w/ Max Depth of 3\n",
    "clf = tree.DecisionTreeClassifier(max_depth=3)\n",
    "classify(clf)"
   ]
  },
  {
   "cell_type": "code",
   "execution_count": 4,
   "metadata": {
    "collapsed": false
   },
   "outputs": [
    {
     "name": "stdout",
     "output_type": "stream",
     "text": [
      "Accuracy = 99.4091694583088 %\n",
      "Classification Report \n",
      "                 precision    recall  f1-score   support\n",
      "\n",
      "         Normal       1.00      1.00      1.00    500607\n",
      "    brute_force       1.00      0.98      0.99       525\n",
      "           ddos       0.94      0.53      0.68       960\n",
      "       internal       0.83      0.74      0.79      5022\n",
      "irc_botnet_ddos       0.96      0.95      0.96      9445\n",
      "ssh_brute_force       0.98      0.98      0.98      1356\n",
      "\n",
      "    avg / total       0.99      0.99      0.99    517915\n",
      "\n",
      "CPU times: user 17.3 s, sys: 468 ms, total: 17.8 s\n",
      "Wall time: 17.9 s\n"
     ]
    }
   ],
   "source": [
    "%%time\n",
    "## Decision Tree Classifier w/ no Max Depth\n",
    "\n",
    "clf = tree.DecisionTreeClassifier()\n",
    "classify(clf)"
   ]
  },
  {
   "cell_type": "code",
   "execution_count": 5,
   "metadata": {
    "collapsed": false
   },
   "outputs": [
    {
     "name": "stdout",
     "output_type": "stream",
     "text": [
      "N =  0\n",
      "Accuracy = 99.40009461011941 %\n",
      "Classification Report \n",
      "                 precision    recall  f1-score   support\n",
      "\n",
      "         Normal       1.00      1.00      1.00    500732\n",
      "    brute_force       0.99      0.98      0.98       513\n",
      "           ddos       0.94      0.50      0.65       920\n",
      "       internal       0.89      0.68      0.77      5139\n",
      "irc_botnet_ddos       0.96      0.96      0.96      9308\n",
      "ssh_brute_force       0.99      0.97      0.98      1303\n",
      "\n",
      "    avg / total       0.99      0.99      0.99    517915\n",
      "\n",
      "N =  1\n",
      "Accuracy = 99.40608014828688 %\n",
      "Classification Report \n",
      "                 precision    recall  f1-score   support\n",
      "\n",
      "         Normal       1.00      1.00      1.00    500633\n",
      "    brute_force       0.99      0.97      0.98       520\n",
      "           ddos       0.96      0.52      0.67       984\n",
      "       internal       0.83      0.73      0.78      5108\n",
      "irc_botnet_ddos       0.97      0.96      0.96      9358\n",
      "ssh_brute_force       0.99      0.98      0.98      1312\n",
      "\n",
      "    avg / total       0.99      0.99      0.99    517915\n",
      "\n",
      "N =  2\n",
      "Accuracy = 99.43407702036048 %\n",
      "Classification Report \n",
      "                 precision    recall  f1-score   support\n",
      "\n",
      "         Normal       1.00      1.00      1.00    500844\n",
      "    brute_force       0.98      0.99      0.99       474\n",
      "           ddos       0.95      0.56      0.70       971\n",
      "       internal       0.83      0.74      0.78      4988\n",
      "irc_botnet_ddos       0.97      0.96      0.96      9295\n",
      "ssh_brute_force       1.00      0.97      0.99      1343\n",
      "\n",
      "    avg / total       0.99      0.99      0.99    517915\n",
      "\n",
      "N =  3\n",
      "Accuracy = 99.40357008389408 %\n",
      "Classification Report \n",
      "                 precision    recall  f1-score   support\n",
      "\n",
      "         Normal       1.00      1.00      1.00    500532\n",
      "    brute_force       1.00      0.97      0.98       514\n",
      "           ddos       0.95      0.52      0.67       967\n",
      "       internal       0.83      0.73      0.78      5160\n",
      "irc_botnet_ddos       0.97      0.96      0.96      9417\n",
      "ssh_brute_force       0.99      0.97      0.98      1325\n",
      "\n",
      "    avg / total       0.99      0.99      0.99    517915\n",
      "\n",
      "CPU times: user 20min, sys: 14.3 s, total: 20min 15s\n",
      "Wall time: 5min 54s\n"
     ]
    }
   ],
   "source": [
    "%%time\n",
    "## Random Forests 5,10,25,100 Trees Classifier\n",
    "\n",
    "num_trees = [5, 10, 25, 100]\n",
    "for n in num_trees:\n",
    "    print(\"N = {} trees\".format(n))\n",
    "    clf = RandomForestClassifier(n_estimators=n, n_jobs=-1)\n",
    "    classify(clf)"
   ]
  },
  {
   "cell_type": "code",
   "execution_count": 6,
   "metadata": {
    "collapsed": false
   },
   "outputs": [
    {
     "name": "stdout",
     "output_type": "stream",
     "text": [
      "Accuracy = 23.545176332023594 %\n",
      "Classification Report \n",
      "                 precision    recall  f1-score   support\n",
      "\n",
      "         Normal       1.00      0.22      0.36    500818\n",
      "    brute_force       0.00      0.96      0.01       520\n",
      "           ddos       0.01      0.61      0.01       949\n",
      "       internal       0.00      0.00      0.00      5067\n",
      "irc_botnet_ddos       0.09      0.99      0.17      9291\n",
      "ssh_brute_force       0.01      0.30      0.01      1270\n",
      "\n",
      "    avg / total       0.97      0.24      0.35    517915\n",
      "\n",
      "CPU times: user 5.03 s, sys: 641 ms, total: 5.67 s\n",
      "Wall time: 5.91 s\n"
     ]
    }
   ],
   "source": [
    "%%time\n",
    "## Naive Bayes\n",
    "\n",
    "clf = MultinomialNB()\n",
    "classify(clf)"
   ]
  }
 ],
 "metadata": {
  "kernelspec": {
   "display_name": "Python 3",
   "language": "python",
   "name": "python3"
  },
  "language_info": {
   "codemirror_mode": {
    "name": "ipython",
    "version": 3
   },
   "file_extension": ".py",
   "mimetype": "text/x-python",
   "name": "python",
   "nbconvert_exporter": "python",
   "pygments_lexer": "ipython3",
   "version": "3.5.2"
  }
 },
 "nbformat": 4,
 "nbformat_minor": 1
}
