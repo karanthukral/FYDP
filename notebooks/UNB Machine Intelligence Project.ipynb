{
 "cells": [
  {
   "cell_type": "code",
   "execution_count": 1,
   "metadata": {
    "collapsed": false
   },
   "outputs": [],
   "source": [
    "import os\n",
    "import random\n",
    "import numpy as np\n",
    "from sklearn.model_selection import train_test_split\n",
    "from sklearn.ensemble import RandomForestClassifier\n",
    "from sklearn import tree\n",
    "from sklearn.naive_bayes import MultinomialNB\n",
    "from sklearn import svm\n",
    "from sklearn.model_selection import cross_val_score\n",
    "#from sklearn.discriminant_analysis import LinearDiscriminantAnalysis\n",
    "\n",
    "DATA_DIR = '../local_data/features/'\n",
    "\n",
    "X = np.load(os.path.join(DATA_DIR, 'features.npy'))\n",
    "y = np.load(os.path.join(DATA_DIR, 'labels.npy'))[0]"
   ]
  },
  {
   "cell_type": "code",
   "execution_count": 2,
   "metadata": {
    "collapsed": true
   },
   "outputs": [],
   "source": [
    "def classify(clf, n_fold=False):\n",
    "    if n_fold == True:\n",
    "        scores = cross_val_score(clf, X, y, cv=3)\n",
    "        print(\"Accuracy: %0.4f (+/- %0.4f)\" % (scores.mean()*100, scores.std() * 200))\n",
    "    else:\n",
    "        X_train, X_test, y_train, y_test = train_test_split(X, y, test_size=0.25)\n",
    "\n",
    "        # Fit the model\n",
    "        clf.fit(X_train, y_train)\n",
    "\n",
    "        # Perform the predictions\n",
    "        y_predicted = clf.predict(X_test)\n",
    "\n",
    "        from sklearn.metrics import accuracy_score\n",
    "        print(\"Accuracy = {} %\".format(accuracy_score(y_test, y_predicted)*100))\n",
    "\n",
    "        from sklearn.metrics import classification_report\n",
    "        print(\"Classification Report \\n{}\".format(classification_report(y_test, y_predicted)))"
   ]
  },
  {
   "cell_type": "code",
   "execution_count": 3,
   "metadata": {
    "collapsed": false
   },
   "outputs": [
    {
     "name": "stdout",
     "output_type": "stream",
     "text": [
      "Accuracy = 98.18927816340519 %\n"
     ]
    },
    {
     "name": "stderr",
     "output_type": "stream",
     "text": [
      "/home/karan/FYDP/venv/lib/python3.4/site-packages/sklearn/metrics/classification.py:1113: UndefinedMetricWarning: Precision and F-score are ill-defined and being set to 0.0 in labels with no predicted samples.\n",
      "  'precision', 'predicted', average, warn_for)\n"
     ]
    },
    {
     "name": "stdout",
     "output_type": "stream",
     "text": [
      "Classification Report \n",
      "                 precision    recall  f1-score   support\n",
      "\n",
      "         Normal       0.99      0.99      0.99    500738\n",
      "    brute_force       0.00      0.00      0.00       550\n",
      "           ddos       0.00      0.00      0.00       908\n",
      "       internal       0.49      0.59      0.54      5032\n",
      "irc_botnet_ddos       0.92      0.90      0.91      9380\n",
      "ssh_brute_force       0.00      0.00      0.00      1307\n",
      "\n",
      "    avg / total       0.98      0.98      0.98    517915\n",
      "\n",
      "3 Fold CV\n",
      "Accuracy: 97.8036 (+/- 0.6133)\n",
      "CPU times: user 30 s, sys: 1.86 s, total: 31.9 s\n",
      "Wall time: 31.9 s\n"
     ]
    }
   ],
   "source": [
    "%%time\n",
    "## Decision Tree Classifier w/ Max Depth of 3\n",
    "clf = tree.DecisionTreeClassifier(max_depth=3)\n",
    "classify(clf)\n",
    "print(\"3 Fold CV\")\n",
    "classify(clf, True)"
   ]
  },
  {
   "cell_type": "code",
   "execution_count": 4,
   "metadata": {
    "collapsed": false
   },
   "outputs": [
    {
     "name": "stdout",
     "output_type": "stream",
     "text": [
      "Accuracy = 99.37634553932595 %\n",
      "Classification Report \n",
      "                 precision    recall  f1-score   support\n",
      "\n",
      "         Normal       1.00      1.00      1.00    500741\n",
      "    brute_force       0.99      0.98      0.98       506\n",
      "           ddos       0.90      0.51      0.65       963\n",
      "       internal       0.82      0.73      0.77      5065\n",
      "irc_botnet_ddos       0.96      0.95      0.96      9357\n",
      "ssh_brute_force       0.98      0.98      0.98      1283\n",
      "\n",
      "    avg / total       0.99      0.99      0.99    517915\n",
      "\n",
      "3 Fold CV\n",
      "Accuracy: 98.7920 (+/- 0.4264)\n",
      "CPU times: user 1min 14s, sys: 1.89 s, total: 1min 15s\n",
      "Wall time: 1min 15s\n"
     ]
    }
   ],
   "source": [
    "%%time\n",
    "## Decision Tree Classifier w/ no Max Depth\n",
    "\n",
    "clf = tree.DecisionTreeClassifier()\n",
    "classify(clf)\n",
    "print(\"3 Fold CV\")\n",
    "classify(clf, True)"
   ]
  },
  {
   "cell_type": "code",
   "execution_count": 5,
   "metadata": {
    "collapsed": false
   },
   "outputs": [
    {
     "name": "stdout",
     "output_type": "stream",
     "text": [
      "N = 5 trees\n",
      "Accuracy = 99.38291032312252 %\n",
      "Classification Report \n",
      "                 precision    recall  f1-score   support\n",
      "\n",
      "         Normal       1.00      1.00      1.00    500685\n",
      "    brute_force       0.98      0.99      0.99       564\n",
      "           ddos       0.93      0.50      0.65       925\n",
      "       internal       0.89      0.67      0.76      5110\n",
      "irc_botnet_ddos       0.96      0.95      0.96      9322\n",
      "ssh_brute_force       0.99      0.97      0.98      1309\n",
      "\n",
      "    avg / total       0.99      0.99      0.99    517915\n",
      "\n",
      "3 Fold CV\n",
      "Accuracy: 98.8497 (+/- 0.4202)\n",
      "N = 10 trees\n",
      "Accuracy = 99.41785814274543 %\n",
      "Classification Report \n",
      "                 precision    recall  f1-score   support\n",
      "\n",
      "         Normal       1.00      1.00      1.00    500734\n",
      "    brute_force       0.98      0.99      0.98       528\n",
      "           ddos       0.93      0.51      0.66       939\n",
      "       internal       0.83      0.74      0.78      5069\n",
      "irc_botnet_ddos       0.97      0.96      0.96      9327\n",
      "ssh_brute_force       0.99      0.98      0.98      1318\n",
      "\n",
      "    avg / total       0.99      0.99      0.99    517915\n",
      "\n",
      "3 Fold CV\n",
      "Accuracy: 98.8545 (+/- 0.4384)\n",
      "N = 25 trees\n",
      "Accuracy = 99.41785814274543 %\n",
      "Classification Report \n",
      "                 precision    recall  f1-score   support\n",
      "\n",
      "         Normal       1.00      1.00      1.00    500687\n",
      "    brute_force       0.98      0.99      0.99       528\n",
      "           ddos       0.94      0.54      0.69       913\n",
      "       internal       0.84      0.74      0.78      5172\n",
      "irc_botnet_ddos       0.97      0.95      0.96      9332\n",
      "ssh_brute_force       1.00      0.98      0.99      1283\n",
      "\n",
      "    avg / total       0.99      0.99      0.99    517915\n",
      "\n",
      "3 Fold CV\n",
      "Accuracy: 98.8373 (+/- 0.4365)\n",
      "N = 100 trees\n",
      "Accuracy = 99.41959587963277 %\n",
      "Classification Report \n",
      "                 precision    recall  f1-score   support\n",
      "\n",
      "         Normal       1.00      1.00      1.00    500694\n",
      "    brute_force       1.00      0.99      0.99       479\n",
      "           ddos       0.93      0.52      0.67       946\n",
      "       internal       0.83      0.74      0.78      5058\n",
      "irc_botnet_ddos       0.97      0.96      0.96      9425\n",
      "ssh_brute_force       1.00      0.97      0.99      1313\n",
      "\n",
      "    avg / total       0.99      0.99      0.99    517915\n",
      "\n",
      "3 Fold CV\n",
      "Accuracy: 98.8365 (+/- 0.4354)\n",
      "CPU times: user 1h 54min 1s, sys: 1min 17s, total: 1h 55min 19s\n",
      "Wall time: 16min 58s\n"
     ]
    }
   ],
   "source": [
    "%%time\n",
    "## Random Forests 5,10,25,100 Trees Classifier\n",
    "\n",
    "num_trees = [5, 10, 25, 100]\n",
    "for n in num_trees:\n",
    "    print(\"N = {} trees\".format(n))\n",
    "    clf = RandomForestClassifier(n_estimators=n, n_jobs=-1)\n",
    "    classify(clf)\n",
    "    print(\"3 Fold CV\")\n",
    "    classify(clf, True)"
   ]
  },
  {
   "cell_type": "code",
   "execution_count": 6,
   "metadata": {
    "collapsed": false
   },
   "outputs": [
    {
     "name": "stdout",
     "output_type": "stream",
     "text": [
      "Accuracy = 16.728613768668605 %\n",
      "Classification Report \n",
      "                 precision    recall  f1-score   support\n",
      "\n",
      "         Normal       1.00      0.14      0.25    500640\n",
      "    brute_force       0.00      0.95      0.01       520\n",
      "           ddos       0.00      0.00      0.00       901\n",
      "       internal       0.06      0.89      0.11      5113\n",
      "irc_botnet_ddos       0.09      0.99      0.17      9422\n",
      "ssh_brute_force       0.01      0.29      0.01      1319\n",
      "\n",
      "    avg / total       0.97      0.17      0.25    517915\n",
      "\n",
      "3 Fold CV\n",
      "Accuracy: 25.8579 (+/- 14.3068)\n",
      "CPU times: user 28 s, sys: 2.44 s, total: 30.5 s\n",
      "Wall time: 30.5 s\n"
     ]
    }
   ],
   "source": [
    "%%time\n",
    "## Naive Bayes\n",
    "\n",
    "clf = MultinomialNB()\n",
    "classify(clf)\n",
    "print(\"3 Fold CV\")\n",
    "classify(clf, True)"
   ]
  }
 ],
 "metadata": {
  "kernelspec": {
   "display_name": "Python 3",
   "language": "python",
   "name": "python3"
  },
  "language_info": {
   "codemirror_mode": {
    "name": "ipython",
    "version": 3
   },
   "file_extension": ".py",
   "mimetype": "text/x-python",
   "name": "python",
   "nbconvert_exporter": "python",
   "pygments_lexer": "ipython3",
   "version": "3.4.2"
  }
 },
 "nbformat": 4,
 "nbformat_minor": 1
}
