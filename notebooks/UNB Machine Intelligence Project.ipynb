{
 "cells": [
  {
   "cell_type": "code",
   "execution_count": 19,
   "metadata": {
    "collapsed": true
   },
   "outputs": [],
   "source": [
    "import os\n",
    "import random\n",
    "import numpy as np\n",
    "from sklearn.model_selection import train_test_split\n",
    "from sklearn.ensemble import RandomForestClassifier\n",
    "from sklearn import tree\n",
    "from sklearn.naive_bayes import MultinomialNB\n",
    "from sklearn import svm\n",
    "#from sklearn.discriminant_analysis import LinearDiscriminantAnalysis\n",
    "\n",
    "DATA_DIR = '../local_data/features/'"
   ]
  },
  {
   "cell_type": "code",
   "execution_count": 4,
   "metadata": {
    "collapsed": false
   },
   "outputs": [
    {
     "name": "stdout",
     "output_type": "stream",
     "text": [
      "Accuracy = 98.1848372802487 %\n",
      "Classification Report \n",
      "                 precision    recall  f1-score   support\n",
      "\n",
      "         Normal       0.99      0.99      0.99    500751\n",
      "    brute_force       0.00      0.00      0.00       548\n",
      "           ddos       0.00      0.00      0.00       900\n",
      "       internal       0.50      0.60      0.54      5101\n",
      "irc_botnet_ddos       0.92      0.89      0.91      9279\n",
      "ssh_brute_force       0.00      0.00      0.00      1336\n",
      "\n",
      "    avg / total       0.98      0.98      0.98    517915\n",
      "\n",
      "CPU times: user 4.92 s, sys: 448 ms, total: 5.36 s\n",
      "Wall time: 5.37 s\n"
     ]
    },
    {
     "name": "stderr",
     "output_type": "stream",
     "text": [
      "/home/karan/Development/src/github.com/karanthukral/FYDP/venv/lib/python3.5/site-packages/sklearn/metrics/classification.py:1113: UndefinedMetricWarning: Precision and F-score are ill-defined and being set to 0.0 in labels with no predicted samples.\n",
      "  'precision', 'predicted', average, warn_for)\n"
     ]
    }
   ],
   "source": [
    "%%time\n",
    "## Decision Tree Classifier w/ Max Depth of 3\n",
    "\n",
    "X = np.load(os.path.join(DATA_DIR, 'features.npy'))\n",
    "y = np.load(os.path.join(DATA_DIR, 'labels.npy'))[0]\n",
    "\n",
    "clf = tree.DecisionTreeClassifier(max_depth=3)\n",
    "\n",
    "X_train, X_test, y_train, y_test = train_test_split(X, y, test_size=0.25)\n",
    "\n",
    "# Fit the model\n",
    "clf.fit(X_train, y_train)\n",
    "\n",
    "# Perform the predictions\n",
    "y_predicted = clf.predict(X_test)\n",
    "\n",
    "from sklearn.metrics import accuracy_score\n",
    "print(\"Accuracy = {} %\".format(accuracy_score(y_test, y_predicted)*100))\n",
    "\n",
    "from sklearn.metrics import classification_report\n",
    "print(\"Classification Report \\n{}\".format(classification_report(y_test, y_predicted)))"
   ]
  },
  {
   "cell_type": "code",
   "execution_count": 5,
   "metadata": {
    "collapsed": false
   },
   "outputs": [
    {
     "name": "stdout",
     "output_type": "stream",
     "text": [
      "Accuracy = 99.37306314742767 %\n",
      "Classification Report \n",
      "                 precision    recall  f1-score   support\n",
      "\n",
      "         Normal       1.00      1.00      1.00    500588\n",
      "    brute_force       0.97      0.99      0.98       564\n",
      "           ddos       0.93      0.53      0.68       974\n",
      "       internal       0.83      0.72      0.77      5085\n",
      "irc_botnet_ddos       0.96      0.95      0.96      9393\n",
      "ssh_brute_force       0.98      0.98      0.98      1311\n",
      "\n",
      "    avg / total       0.99      0.99      0.99    517915\n",
      "\n",
      "CPU times: user 10.8 s, sys: 488 ms, total: 11.3 s\n",
      "Wall time: 11.3 s\n"
     ]
    }
   ],
   "source": [
    "%%time\n",
    "## Decision Tree Classifier w/ no Max Depth\n",
    "\n",
    "X = np.load(os.path.join(DATA_DIR, 'features.npy'))\n",
    "y = np.load(os.path.join(DATA_DIR, 'labels.npy'))[0]\n",
    "\n",
    "clf = tree.DecisionTreeClassifier()\n",
    "\n",
    "X_train, X_test, y_train, y_test = train_test_split(X, y, test_size=0.25)\n",
    "\n",
    "# Fit the model\n",
    "clf.fit(X_train, y_train)\n",
    "\n",
    "# Perform the predictions\n",
    "y_predicted = clf.predict(X_test)\n",
    "\n",
    "from sklearn.metrics import accuracy_score\n",
    "print(\"Accuracy = {} %\".format(accuracy_score(y_test, y_predicted)*100))\n",
    "\n",
    "from sklearn.metrics import classification_report\n",
    "print(\"Classification Report \\n{}\".format(classification_report(y_test, y_predicted)))"
   ]
  },
  {
   "cell_type": "code",
   "execution_count": 6,
   "metadata": {
    "collapsed": false
   },
   "outputs": [
    {
     "name": "stdout",
     "output_type": "stream",
     "text": [
      "N =  0\n",
      "Accuracy = 99.39758454572662 %\n",
      "Classification Report \n",
      "                 precision    recall  f1-score   support\n",
      "\n",
      "         Normal       1.00      1.00      1.00    500537\n",
      "    brute_force       1.00      0.98      0.99       517\n",
      "           ddos       0.93      0.52      0.67       934\n",
      "       internal       0.84      0.72      0.78      5186\n",
      "irc_botnet_ddos       0.96      0.96      0.96      9461\n",
      "ssh_brute_force       0.99      0.97      0.98      1280\n",
      "\n",
      "    avg / total       0.99      0.99      0.99    517915\n",
      "\n",
      "N =  1\n",
      "Accuracy = 99.41496191459989 %\n",
      "Classification Report \n",
      "                 precision    recall  f1-score   support\n",
      "\n",
      "         Normal       1.00      1.00      1.00    500956\n",
      "    brute_force       0.98      0.99      0.98       525\n",
      "           ddos       0.94      0.49      0.65       938\n",
      "       internal       0.83      0.73      0.78      5025\n",
      "irc_botnet_ddos       0.97      0.95      0.96      9191\n",
      "ssh_brute_force       1.00      0.97      0.99      1280\n",
      "\n",
      "    avg / total       0.99      0.99      0.99    517915\n",
      "\n",
      "N =  2\n",
      "Accuracy = 99.41457575084715 %\n",
      "Classification Report \n",
      "                 precision    recall  f1-score   support\n",
      "\n",
      "         Normal       1.00      1.00      1.00    500851\n",
      "    brute_force       0.99      0.99      0.99       535\n",
      "           ddos       0.94      0.50      0.65       944\n",
      "       internal       0.83      0.73      0.78      5046\n",
      "irc_botnet_ddos       0.96      0.96      0.96      9242\n",
      "ssh_brute_force       0.99      0.98      0.98      1297\n",
      "\n",
      "    avg / total       0.99      0.99      0.99    517915\n",
      "\n",
      "N =  3\n",
      "Accuracy = 99.40183234700675 %\n",
      "Classification Report \n",
      "                 precision    recall  f1-score   support\n",
      "\n",
      "         Normal       1.00      1.00      1.00    500653\n",
      "    brute_force       1.00      0.98      0.99       531\n",
      "           ddos       0.94      0.51      0.66       947\n",
      "       internal       0.82      0.73      0.77      5113\n",
      "irc_botnet_ddos       0.97      0.96      0.96      9373\n",
      "ssh_brute_force       1.00      0.97      0.98      1298\n",
      "\n",
      "    avg / total       0.99      0.99      0.99    517915\n",
      "\n",
      "CPU times: user 10min 59s, sys: 4.3 s, total: 11min 3s\n",
      "Wall time: 3min 13s\n"
     ]
    }
   ],
   "source": [
    "%%time\n",
    "## Random Forests 5,10,25,100 Trees Classifier\n",
    "\n",
    "X = np.load(os.path.join(DATA_DIR, 'features.npy'))\n",
    "y = np.load(os.path.join(DATA_DIR, 'labels.npy'))[0]\n",
    "\n",
    "n = 0\n",
    "num_trees = [5, 10, 25, 100]\n",
    "while n < 4:\n",
    "    print(\"N = \", n)\n",
    "    clf = RandomForestClassifier(n_estimators=num_trees[n], n_jobs=-1)\n",
    "\n",
    "    X_train, X_test, y_train, y_test = train_test_split(X, y, test_size=0.25)\n",
    "\n",
    "    # Fit the model\n",
    "    clf.fit(X_train, y_train)\n",
    "\n",
    "    # Perform the predictions\n",
    "    y_predicted = clf.predict(X_test)\n",
    "\n",
    "    from sklearn.metrics import accuracy_score\n",
    "    print(\"Accuracy = {} %\".format(accuracy_score(y_test, y_predicted)*100))\n",
    "\n",
    "    from sklearn.metrics import classification_report\n",
    "    print(\"Classification Report \\n{}\".format(classification_report(y_test, y_predicted)))\n",
    "    \n",
    "    n = n+1"
   ]
  },
  {
   "cell_type": "code",
   "execution_count": 18,
   "metadata": {
    "collapsed": false
   },
   "outputs": [
    {
     "name": "stdout",
     "output_type": "stream",
     "text": [
      "Accuracy = 24.388171804253595 %\n",
      "Classification Report \n",
      "                 precision    recall  f1-score   support\n",
      "\n",
      "         Normal       1.00      0.23      0.38    500966\n",
      "    brute_force       0.01      0.95      0.02       514\n",
      "           ddos       0.01      0.62      0.01       932\n",
      "       internal       0.00      0.01      0.00      5059\n",
      "irc_botnet_ddos       0.10      0.99      0.19      9166\n",
      "ssh_brute_force       0.01      0.31      0.01      1278\n",
      "\n",
      "    avg / total       0.97      0.24      0.37    517915\n",
      "\n",
      "CPU times: user 4.48 s, sys: 112 ms, total: 4.6 s\n",
      "Wall time: 4.59 s\n"
     ]
    }
   ],
   "source": [
    "%%time\n",
    "## Naive Bayes\n",
    "\n",
    "X = np.load(os.path.join(DATA_DIR, 'features.npy'))\n",
    "y = np.load(os.path.join(DATA_DIR, 'labels.npy'))[0]\n",
    "\n",
    "clf = MultinomialNB()\n",
    "\n",
    "X_train, X_test, y_train, y_test = train_test_split(X, y, test_size=0.25)\n",
    "\n",
    "# Fit the model\n",
    "clf.fit(X_train, y_train)\n",
    "\n",
    "# Perform the predictions\n",
    "y_predicted = clf.predict(X_test)\n",
    "\n",
    "from sklearn.metrics import accuracy_score\n",
    "print(\"Accuracy = {} %\".format(accuracy_score(y_test, y_predicted)*100))\n",
    "\n",
    "from sklearn.metrics import classification_report\n",
    "print(\"Classification Report \\n{}\".format(classification_report(y_test, y_predicted)))"
   ]
  },
  {
   "cell_type": "code",
   "execution_count": null,
   "metadata": {
    "collapsed": true
   },
   "outputs": [],
   "source": [
    "%%time\n",
    "## SVM w/ rbf\n",
    "\n",
    "X = np.load(os.path.join(DATA_DIR, 'features.npy'))\n",
    "y = np.load(os.path.join(DATA_DIR, 'labels.npy'))[0]\n",
    "\n",
    "clf = svm.SVC()\n",
    "\n",
    "X_train, X_test, y_train, y_test = train_test_split(X, y, test_size=0.25)\n",
    "\n",
    "# Fit the model\n",
    "clf.fit(X_train, y_train)\n",
    "\n",
    "# Perform the predictions\n",
    "y_predicted = clf.predict(X_test)\n",
    "\n",
    "from sklearn.metrics import accuracy_score\n",
    "print(\"Accuracy = {} %\".format(accuracy_score(y_test, y_predicted)*100))\n",
    "\n",
    "from sklearn.metrics import classification_report\n",
    "print(\"Classification Report \\n{}\".format(classification_report(y_test, y_predicted)))"
   ]
  },
  {
   "cell_type": "code",
   "execution_count": null,
   "metadata": {
    "collapsed": true
   },
   "outputs": [],
   "source": [
    "%%time\n",
    "## SVM w/ poly\n",
    "\n",
    "X = np.load(os.path.join(DATA_DIR, 'features.npy'))\n",
    "y = np.load(os.path.join(DATA_DIR, 'labels.npy'))[0]\n",
    "\n",
    "order = [1, 2, 3]\n",
    "n = 0\n",
    "\n",
    "while n<3:\n",
    "    print(\"N = \", n)\n",
    "    \n",
    "    clf = svm.SVC(kernal='poly')\n",
    "\n",
    "    X_train, X_test, y_train, y_test = train_test_split(X, y, test_size=0.25)\n",
    "\n",
    "    # Fit the model\n",
    "    clf.fit(X_train, y_train)\n",
    "\n",
    "    # Perform the predictions\n",
    "    y_predicted = clf.predict(X_test)\n",
    "\n",
    "    from sklearn.metrics import accuracy_score\n",
    "    print(\"Accuracy = {} %\".format(accuracy_score(y_test, y_predicted)*100))\n",
    "\n",
    "    from sklearn.metrics import classification_report\n",
    "    print(\"Classification Report \\n{}\".format(classification_report(y_test, y_predicted)))"
   ]
  }
 ],
 "metadata": {
  "kernelspec": {
   "display_name": "Python 3",
   "language": "python",
   "name": "python3"
  },
  "language_info": {
   "codemirror_mode": {
    "name": "ipython",
    "version": 3
   },
   "file_extension": ".py",
   "mimetype": "text/x-python",
   "name": "python",
   "nbconvert_exporter": "python",
   "pygments_lexer": "ipython3",
   "version": "3.5.1+"
  }
 },
 "nbformat": 4,
 "nbformat_minor": 1
}
