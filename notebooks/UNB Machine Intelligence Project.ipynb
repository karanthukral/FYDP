{
 "cells": [
  {
   "cell_type": "code",
   "execution_count": 16,
   "metadata": {
    "collapsed": true
   },
   "outputs": [],
   "source": [
    "import os\n",
    "import random\n",
    "import numpy as np\n",
    "from sklearn.model_selection import train_test_split\n",
    "#from sklearn.ensemble import RandomForestClassifier\n",
    "#from sklearn import tree\n",
    "from sklearn.discriminant_analysis import LinearDiscriminantAnalysis\n",
    "\n",
    "DATA_DIR = '../local_data/features/'"
   ]
  },
  {
   "cell_type": "code",
   "execution_count": 17,
   "metadata": {
    "collapsed": false
   },
   "outputs": [
    {
     "name": "stdout",
     "output_type": "stream",
     "text": [
      "N =  5\n"
     ]
    },
    {
     "name": "stderr",
     "output_type": "stream",
     "text": [
      "/Users/karan/Development/src/github.com/karanthukral/FYDP/venv/lib/python3.5/site-packages/sklearn/discriminant_analysis.py:389: UserWarning: Variables are collinear.\n",
      "  warnings.warn(\"Variables are collinear.\")\n"
     ]
    },
    {
     "name": "stdout",
     "output_type": "stream",
     "text": [
      "Accuracy = 96.70718168039157 %\n",
      "Classification Report \n",
      "                 precision    recall  f1-score   support\n",
      "\n",
      "         Normal       0.97      1.00      0.98    500917\n",
      "    brute_force       0.00      0.00      0.00       529\n",
      "           ddos       0.00      0.00      0.00       898\n",
      "       internal       0.00      0.00      0.00      5070\n",
      "irc_botnet_ddos       0.00      0.00      0.00      9281\n",
      "ssh_brute_force       0.00      0.00      0.00      1220\n",
      "\n",
      "    avg / total       0.94      0.97      0.95    517915\n",
      "\n",
      "CPU times: user 5.81 s, sys: 1.34 s, total: 7.15 s\n",
      "Wall time: 7.06 s\n"
     ]
    },
    {
     "name": "stderr",
     "output_type": "stream",
     "text": [
      "/Users/karan/Development/src/github.com/karanthukral/FYDP/venv/lib/python3.5/site-packages/sklearn/metrics/classification.py:1113: UndefinedMetricWarning: Precision and F-score are ill-defined and being set to 0.0 in labels with no predicted samples.\n",
      "  'precision', 'predicted', average, warn_for)\n"
     ]
    }
   ],
   "source": [
    "%%time\n",
    "## Random Forest Classifier\n",
    "\n",
    "X = np.load(os.path.join(DATA_DIR, 'features.npy'))\n",
    "y = np.load(os.path.join(DATA_DIR, 'labels.npy'))[0]\n",
    "\n",
    "n = 5\n",
    "while n <= 5:\n",
    "    print(\"N = \", n)\n",
    "    #clf = RandomForestClassifier(n_estimators=n, n_jobs=-1)\n",
    "#     clf = tree.DecisionTreeClassifier()\n",
    "    clf = LinearDiscriminantAnalysis()\n",
    "\n",
    "    X_train, X_test, y_train, y_test = train_test_split(X, y, test_size=0.25)\n",
    "\n",
    "    # Fit the model\n",
    "    clf.fit(X_train, y_train)\n",
    "\n",
    "    # Perform the predictions\n",
    "    y_predicted = clf.predict(X_test)\n",
    "\n",
    "    from sklearn.metrics import accuracy_score\n",
    "    print(\"Accuracy = {} %\".format(accuracy_score(y_test, y_predicted)*100))\n",
    "\n",
    "    from sklearn.metrics import classification_report\n",
    "    print(\"Classification Report \\n{}\".format(classification_report(y_test, y_predicted)))\n",
    "    \n",
    "    n = n+1"
   ]
  },
  {
   "cell_type": "code",
   "execution_count": null,
   "metadata": {
    "collapsed": true
   },
   "outputs": [],
   "source": []
  }
 ],
 "metadata": {
  "kernelspec": {
   "display_name": "Python 3",
   "language": "python",
   "name": "python3"
  },
  "language_info": {
   "codemirror_mode": {
    "name": "ipython",
    "version": 3
   },
   "file_extension": ".py",
   "mimetype": "text/x-python",
   "name": "python",
   "nbconvert_exporter": "python",
   "pygments_lexer": "ipython3",
   "version": "3.5.2"
  }
 },
 "nbformat": 4,
 "nbformat_minor": 1
}
