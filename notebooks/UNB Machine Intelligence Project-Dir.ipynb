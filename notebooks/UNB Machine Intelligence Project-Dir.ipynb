{
 "cells": [
  {
   "cell_type": "code",
   "execution_count": 1,
   "metadata": {
    "collapsed": true
   },
   "outputs": [],
   "source": [
    "import os\n",
    "import random\n",
    "import numpy as np\n",
    "from sklearn.model_selection import train_test_split\n",
    "from sklearn.ensemble import RandomForestClassifier\n",
    "from sklearn import tree\n",
    "from sklearn.naive_bayes import MultinomialNB\n",
    "from sklearn import svm\n",
    "from sklearn.model_selection import cross_val_score\n",
    "#from sklearn.discriminant_analysis import LinearDiscriminantAnalysis\n",
    "\n",
    "DATA_DIR = '../local_data/features/'\n",
    "\n",
    "X = np.load(os.path.join(DATA_DIR, 'features-new.npy'))\n",
    "y = np.load(os.path.join(DATA_DIR, 'labels-new.npy'))[0]"
   ]
  },
  {
   "cell_type": "code",
   "execution_count": 2,
   "metadata": {
    "collapsed": true
   },
   "outputs": [],
   "source": [
    "def classify(clf, n_fold=False):\n",
    "    if n_fold == True:\n",
    "        scores = cross_val_score(clf, X, y, cv=3)\n",
    "        print(\"Accuracy: %0.4f (+/- %0.4f)\" % (scores.mean()*100, scores.std() * 200))\n",
    "    else:\n",
    "        X_train, X_test, y_train, y_test = train_test_split(X, y, test_size=0.25)\n",
    "\n",
    "        # Fit the model\n",
    "        clf.fit(X_train, y_train)\n",
    "\n",
    "        # Perform the predictions\n",
    "        y_predicted = clf.predict(X_test)\n",
    "\n",
    "        from sklearn.metrics import accuracy_score\n",
    "        print(\"Accuracy = {} %\".format(accuracy_score(y_test, y_predicted)*100))\n",
    "\n",
    "        from sklearn.metrics import classification_report\n",
    "        print(\"Classification Report \\n{}\".format(classification_report(y_test, y_predicted)))"
   ]
  },
  {
   "cell_type": "code",
   "execution_count": 3,
   "metadata": {
    "collapsed": false
   },
   "outputs": [
    {
     "name": "stdout",
     "output_type": "stream",
     "text": [
      "Accuracy = 98.17170771265555 %\n",
      "Classification Report \n",
      "                 precision    recall  f1-score   support\n",
      "\n",
      "         Normal       0.99      0.99      0.99    500742\n",
      "    brute_force       0.00      0.00      0.00       524\n",
      "           ddos       0.00      0.00      0.00       931\n",
      "       internal       0.48      0.59      0.53      4921\n",
      "irc_botnet_ddos       0.92      0.89      0.90      9471\n",
      "ssh_brute_force       0.00      0.00      0.00      1326\n",
      "\n",
      "    avg / total       0.98      0.98      0.98    517915\n",
      "\n",
      "CPU times: user 7.34 s, sys: 756 ms, total: 8.09 s\n",
      "Wall time: 8.47 s\n"
     ]
    },
    {
     "name": "stderr",
     "output_type": "stream",
     "text": [
      "/Users/karan/Development/src/github.com/karanthukral/FYDP/venv/lib/python3.5/site-packages/sklearn/metrics/classification.py:1113: UndefinedMetricWarning: Precision and F-score are ill-defined and being set to 0.0 in labels with no predicted samples.\n",
      "  'precision', 'predicted', average, warn_for)\n"
     ]
    }
   ],
   "source": [
    "%%time\n",
    "## Decision Tree Classifier w/ Max Depth of 3\n",
    "clf = tree.DecisionTreeClassifier(max_depth=3)\n",
    "classify(clf)"
   ]
  },
  {
   "cell_type": "code",
   "execution_count": 4,
   "metadata": {
    "collapsed": false
   },
   "outputs": [
    {
     "name": "stdout",
     "output_type": "stream",
     "text": [
      "Accuracy = 99.69357906220134 %\n",
      "Classification Report \n",
      "                 precision    recall  f1-score   support\n",
      "\n",
      "         Normal       1.00      1.00      1.00    500829\n",
      "    brute_force       0.98      0.99      0.99       524\n",
      "           ddos       0.87      0.62      0.73       960\n",
      "       internal       0.93      0.92      0.92      5066\n",
      "irc_botnet_ddos       0.96      0.96      0.96      9274\n",
      "ssh_brute_force       0.99      0.99      0.99      1262\n",
      "\n",
      "    avg / total       1.00      1.00      1.00    517915\n",
      "\n",
      "CPU times: user 17.9 s, sys: 896 ms, total: 18.8 s\n",
      "Wall time: 21 s\n"
     ]
    }
   ],
   "source": [
    "%%time\n",
    "## Decision Tree Classifier w/ no Max Depth\n",
    "\n",
    "clf = tree.DecisionTreeClassifier()\n",
    "classify(clf)"
   ]
  },
  {
   "cell_type": "code",
   "execution_count": 5,
   "metadata": {
    "collapsed": false
   },
   "outputs": [
    {
     "name": "stdout",
     "output_type": "stream",
     "text": [
      "N = 5 trees\n",
      "Accuracy = 99.70941177606363 %\n",
      "Classification Report \n",
      "                 precision    recall  f1-score   support\n",
      "\n",
      "         Normal       1.00      1.00      1.00    500569\n",
      "    brute_force       0.98      0.99      0.99       510\n",
      "           ddos       0.88      0.63      0.73       922\n",
      "       internal       0.93      0.92      0.93      5064\n",
      "irc_botnet_ddos       0.97      0.96      0.96      9517\n",
      "ssh_brute_force       0.99      0.99      0.99      1333\n",
      "\n",
      "    avg / total       1.00      1.00      1.00    517915\n",
      "\n",
      "N = 10 trees\n",
      "Accuracy = 99.71230800420918 %\n",
      "Classification Report \n",
      "                 precision    recall  f1-score   support\n",
      "\n",
      "         Normal       1.00      1.00      1.00    500548\n",
      "    brute_force       0.97      1.00      0.99       533\n",
      "           ddos       0.90      0.65      0.75       952\n",
      "       internal       0.94      0.92      0.93      5142\n",
      "irc_botnet_ddos       0.97      0.96      0.96      9438\n",
      "ssh_brute_force       0.99      0.99      0.99      1302\n",
      "\n",
      "    avg / total       1.00      1.00      1.00    517915\n",
      "\n",
      "N = 25 trees\n",
      "Accuracy = 99.70439164727803 %\n",
      "Classification Report \n",
      "                 precision    recall  f1-score   support\n",
      "\n",
      "         Normal       1.00      1.00      1.00    500508\n",
      "    brute_force       0.98      1.00      0.99       503\n",
      "           ddos       0.88      0.62      0.73       961\n",
      "       internal       0.93      0.92      0.93      5280\n",
      "irc_botnet_ddos       0.97      0.96      0.96      9368\n",
      "ssh_brute_force       0.99      1.00      0.99      1295\n",
      "\n",
      "    avg / total       1.00      1.00      1.00    517915\n",
      "\n",
      "N = 100 trees\n",
      "Accuracy = 99.69975768224516 %\n",
      "Classification Report \n",
      "                 precision    recall  f1-score   support\n",
      "\n",
      "         Normal       1.00      1.00      1.00    500549\n",
      "    brute_force       1.00      0.99      0.99       547\n",
      "           ddos       0.88      0.60      0.71       943\n",
      "       internal       0.93      0.93      0.93      5109\n",
      "irc_botnet_ddos       0.96      0.96      0.96      9487\n",
      "ssh_brute_force       0.99      0.99      0.99      1280\n",
      "\n",
      "    avg / total       1.00      1.00      1.00    517915\n",
      "\n",
      "CPU times: user 15min 44s, sys: 29.2 s, total: 16min 13s\n",
      "Wall time: 7min 23s\n"
     ]
    }
   ],
   "source": [
    "%%time\n",
    "## Random Forests 5,10,25,100 Trees Classifier\n",
    "\n",
    "num_trees = [5, 10, 25, 100]\n",
    "for n in num_trees:\n",
    "    print(\"N = {} trees\".format(n))\n",
    "    clf = RandomForestClassifier(n_estimators=n, n_jobs=-1)\n",
    "    classify(clf)"
   ]
  },
  {
   "cell_type": "code",
   "execution_count": 6,
   "metadata": {
    "collapsed": false
   },
   "outputs": [
    {
     "name": "stdout",
     "output_type": "stream",
     "text": [
      "Accuracy = 11.365378488748155 %\n",
      "Classification Report \n",
      "                 precision    recall  f1-score   support\n",
      "\n",
      "         Normal       1.00      0.10      0.18    500740\n",
      "    brute_force       0.01      0.97      0.02       539\n",
      "           ddos       0.00      0.00      0.00       956\n",
      "       internal       0.00      0.06      0.01      5066\n",
      "irc_botnet_ddos       0.11      0.99      0.19      9351\n",
      "ssh_brute_force       0.01      0.58      0.01      1263\n",
      "\n",
      "    avg / total       0.97      0.11      0.17    517915\n",
      "\n",
      "CPU times: user 5.58 s, sys: 894 ms, total: 6.48 s\n",
      "Wall time: 6.85 s\n"
     ]
    }
   ],
   "source": [
    "%%time\n",
    "## Naive Bayes\n",
    "\n",
    "clf = MultinomialNB()\n",
    "classify(clf)"
   ]
  }
 ],
 "metadata": {
  "kernelspec": {
   "display_name": "Python 3",
   "language": "python",
   "name": "python3"
  },
  "language_info": {
   "codemirror_mode": {
    "name": "ipython",
    "version": 3
   },
   "file_extension": ".py",
   "mimetype": "text/x-python",
   "name": "python",
   "nbconvert_exporter": "python",
   "pygments_lexer": "ipython3",
   "version": "3.5.2"
  }
 },
 "nbformat": 4,
 "nbformat_minor": 1
}
