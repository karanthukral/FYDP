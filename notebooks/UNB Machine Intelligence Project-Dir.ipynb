{
 "cells": [
  {
   "cell_type": "code",
   "execution_count": 1,
   "metadata": {
    "collapsed": true
   },
   "outputs": [],
   "source": [
    "import os\n",
    "import random\n",
    "import numpy as np\n",
    "from sklearn.model_selection import train_test_split\n",
    "from sklearn.ensemble import RandomForestClassifier\n",
    "from sklearn import tree\n",
    "from sklearn.naive_bayes import MultinomialNB\n",
    "from sklearn import svm\n",
    "from sklearn.model_selection import cross_val_score\n",
    "#from sklearn.discriminant_analysis import LinearDiscriminantAnalysis\n",
    "\n",
    "DATA_DIR = '../local_data/features/'\n",
    "\n",
    "X = np.load(os.path.join(DATA_DIR, 'features-new.npy'))\n",
    "y = np.load(os.path.join(DATA_DIR, 'labels-new.npy'))[0]\n",
    "N_FOLD = True"
   ]
  },
  {
   "cell_type": "code",
   "execution_count": 2,
   "metadata": {
    "collapsed": true
   },
   "outputs": [],
   "source": [
    "def classify(clf):\n",
    "    if N_FOLD == True:\n",
    "        scores = cross_val_score(clf, X, y, cv=3)\n",
    "        print(\"Accuracy: %0.4f (+/- %0.4f)\" % (scores.mean()*100, scores.std() * 200))\n",
    "    \n",
    "    ## Simple classification\n",
    "    X_train, X_test, y_train, y_test = train_test_split(X, y, test_size=0.25)\n",
    "\n",
    "    # Fit the model\n",
    "    clf.fit(X_train, y_train)\n",
    "\n",
    "    # Perform the predictions\n",
    "    y_predicted = clf.predict(X_test)\n",
    "\n",
    "    from sklearn.metrics import accuracy_score\n",
    "    print(\"Accuracy = {} %\".format(accuracy_score(y_test, y_predicted)*100))\n",
    "\n",
    "    from sklearn.metrics import classification_report\n",
    "    print(\"Classification Report \\n{}\".format(classification_report(y_test, y_predicted)))"
   ]
  },
  {
   "cell_type": "code",
   "execution_count": 3,
   "metadata": {
    "collapsed": false
   },
   "outputs": [
    {
     "name": "stdout",
     "output_type": "stream",
     "text": [
      "Accuracy: 97.8361 (+/- 0.6994)\n",
      "Accuracy = 98.1771140051939 %\n",
      "Classification Report \n",
      "                 precision    recall  f1-score   support\n",
      "\n",
      "         Normal       0.99      0.99      0.99    500783\n",
      "    brute_force       0.00      0.00      0.00       505\n",
      "           ddos       0.00      0.00      0.00       958\n",
      "       internal       0.49      0.58      0.53      5073\n",
      "irc_botnet_ddos       0.93      0.89      0.91      9313\n",
      "ssh_brute_force       0.00      0.00      0.00      1283\n",
      "\n",
      "    avg / total       0.98      0.98      0.98    517915\n",
      "\n",
      "CPU times: user 18.9 s, sys: 1.3 s, total: 20.2 s\n",
      "Wall time: 20.3 s\n"
     ]
    },
    {
     "name": "stderr",
     "output_type": "stream",
     "text": [
      "/Users/karan/Development/src/github.com/karanthukral/FYDP/venv/lib/python3.5/site-packages/sklearn/metrics/classification.py:1113: UndefinedMetricWarning: Precision and F-score are ill-defined and being set to 0.0 in labels with no predicted samples.\n",
      "  'precision', 'predicted', average, warn_for)\n"
     ]
    }
   ],
   "source": [
    "%%time\n",
    "## Decision Tree Classifier w/ Max Depth of 3\n",
    "clf = tree.DecisionTreeClassifier(max_depth=3)\n",
    "classify(clf)"
   ]
  },
  {
   "cell_type": "code",
   "execution_count": 4,
   "metadata": {
    "collapsed": false
   },
   "outputs": [
    {
     "name": "stdout",
     "output_type": "stream",
     "text": [
      "Accuracy: 99.1584 (+/- 0.4450)\n",
      "Accuracy = 99.69222748906674 %\n",
      "Classification Report \n",
      "                 precision    recall  f1-score   support\n",
      "\n",
      "         Normal       1.00      1.00      1.00    500668\n",
      "    brute_force       0.99      0.99      0.99       520\n",
      "           ddos       0.88      0.64      0.74      1001\n",
      "       internal       0.93      0.93      0.93      5033\n",
      "irc_botnet_ddos       0.96      0.95      0.96      9370\n",
      "ssh_brute_force       1.00      0.99      0.99      1323\n",
      "\n",
      "    avg / total       1.00      1.00      1.00    517915\n",
      "\n",
      "CPU times: user 45.8 s, sys: 1.6 s, total: 47.4 s\n",
      "Wall time: 50.1 s\n"
     ]
    }
   ],
   "source": [
    "%%time\n",
    "## Decision Tree Classifier w/ no Max Depth\n",
    "\n",
    "clf = tree.DecisionTreeClassifier()\n",
    "classify(clf)"
   ]
  },
  {
   "cell_type": "code",
   "execution_count": 5,
   "metadata": {
    "collapsed": false
   },
   "outputs": [
    {
     "name": "stdout",
     "output_type": "stream",
     "text": [
      "N = 5 trees\n",
      "Accuracy: 99.1743 (+/- 0.4333)\n",
      "Accuracy = 99.68913817904482 %\n",
      "Classification Report \n",
      "                 precision    recall  f1-score   support\n",
      "\n",
      "         Normal       1.00      1.00      1.00    500722\n",
      "    brute_force       0.99      0.98      0.98       525\n",
      "           ddos       0.88      0.59      0.70       970\n",
      "       internal       0.93      0.92      0.92      5093\n",
      "irc_botnet_ddos       0.96      0.96      0.96      9327\n",
      "ssh_brute_force       0.99      0.99      0.99      1278\n",
      "\n",
      "    avg / total       1.00      1.00      1.00    517915\n",
      "\n",
      "N = 10 trees\n",
      "Accuracy: 99.1752 (+/- 0.4571)\n",
      "Accuracy = 99.70883253043453 %\n",
      "Classification Report \n",
      "                 precision    recall  f1-score   support\n",
      "\n",
      "         Normal       1.00      1.00      1.00    500702\n",
      "    brute_force       0.98      1.00      0.99       535\n",
      "           ddos       0.90      0.62      0.74       947\n",
      "       internal       0.93      0.92      0.93      5073\n",
      "irc_botnet_ddos       0.97      0.96      0.96      9337\n",
      "ssh_brute_force       1.00      1.00      1.00      1321\n",
      "\n",
      "    avg / total       1.00      1.00      1.00    517915\n",
      "\n",
      "N = 25 trees\n",
      "Accuracy: 99.1623 (+/- 0.4632)\n",
      "Accuracy = 99.71308033171466 %\n",
      "Classification Report \n",
      "                 precision    recall  f1-score   support\n",
      "\n",
      "         Normal       1.00      1.00      1.00    500510\n",
      "    brute_force       1.00      0.98      0.99       548\n",
      "           ddos       0.89      0.65      0.75       917\n",
      "       internal       0.94      0.93      0.93      5153\n",
      "irc_botnet_ddos       0.97      0.96      0.96      9435\n",
      "ssh_brute_force       1.00      0.99      1.00      1352\n",
      "\n",
      "    avg / total       1.00      1.00      1.00    517915\n",
      "\n",
      "N = 100 trees\n",
      "Accuracy: 99.1578 (+/- 0.4755)\n",
      "Accuracy = 99.70593630228899 %\n",
      "Classification Report \n",
      "                 precision    recall  f1-score   support\n",
      "\n",
      "         Normal       1.00      1.00      1.00    500589\n",
      "    brute_force       1.00      0.98      0.99       552\n",
      "           ddos       0.89      0.63      0.74       966\n",
      "       internal       0.93      0.93      0.93      5134\n",
      "irc_botnet_ddos       0.96      0.96      0.96      9366\n",
      "ssh_brute_force       0.99      1.00      1.00      1308\n",
      "\n",
      "    avg / total       1.00      1.00      1.00    517915\n",
      "\n",
      "CPU times: user 43min 44s, sys: 53.7 s, total: 44min 38s\n",
      "Wall time: 13min 5s\n"
     ]
    }
   ],
   "source": [
    "%%time\n",
    "## Random Forests 5,10,25,100 Trees Classifier\n",
    "\n",
    "num_trees = [5, 10, 25, 100]\n",
    "for n in num_trees:\n",
    "    print(\"N = {} trees\".format(n))\n",
    "    clf = RandomForestClassifier(n_estimators=n, n_jobs=-1)\n",
    "    classify(clf)"
   ]
  },
  {
   "cell_type": "code",
   "execution_count": 6,
   "metadata": {
    "collapsed": false
   },
   "outputs": [
    {
     "name": "stdout",
     "output_type": "stream",
     "text": [
      "Accuracy: 26.4746 (+/- 14.1993)\n",
      "Accuracy = 24.97243756214823 %\n",
      "Classification Report \n",
      "                 precision    recall  f1-score   support\n",
      "\n",
      "         Normal       1.00      0.24      0.38    500644\n",
      "    brute_force       0.01      0.97      0.03       525\n",
      "           ddos       0.01      0.82      0.02       937\n",
      "       internal       0.00      0.07      0.01      5084\n",
      "irc_botnet_ddos       0.09      0.99      0.17      9407\n",
      "ssh_brute_force       0.01      0.40      0.02      1318\n",
      "\n",
      "    avg / total       0.97      0.25      0.37    517915\n",
      "\n",
      "CPU times: user 14.9 s, sys: 1.92 s, total: 16.8 s\n",
      "Wall time: 16.5 s\n"
     ]
    }
   ],
   "source": [
    "%%time\n",
    "## Naive Bayes\n",
    "\n",
    "clf = MultinomialNB()\n",
    "classify(clf)"
   ]
  }
 ],
 "metadata": {
  "kernelspec": {
   "display_name": "Python 3",
   "language": "python",
   "name": "python3"
  },
  "language_info": {
   "codemirror_mode": {
    "name": "ipython",
    "version": 3
   },
   "file_extension": ".py",
   "mimetype": "text/x-python",
   "name": "python",
   "nbconvert_exporter": "python",
   "pygments_lexer": "ipython3",
   "version": "3.5.2"
  }
 },
 "nbformat": 4,
 "nbformat_minor": 1
}
