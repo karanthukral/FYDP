{
 "cells": [
  {
   "cell_type": "code",
   "execution_count": 1,
   "metadata": {
    "collapsed": true
   },
   "outputs": [],
   "source": [
    "# Imports\n",
    "import os\n",
    "from datetime import datetime\n",
    "import xml.etree.ElementTree as ET\n",
    "\n",
    "import numpy as np"
   ]
  },
  {
   "cell_type": "code",
   "execution_count": null,
   "metadata": {
    "collapsed": true
   },
   "outputs": [],
   "source": [
    "class day_definition:\n",
    "    def __init__(self, day_xml_file_name, attack_type):\n",
    "        print(\"parsing: \" + day_xml_file_name)\n",
    "        DATA_DIR = '../local_data/xml/'\n",
    "        \n",
    "        self.day_xml_file_name = day_xml_file_name\n",
    "        self.attack_type = attack_type\n",
    "        self.xml_file = os.path.join(DATA_DIR, self.day_xml_file_name)\n",
    "        \n",
    "        tree = ET.parse(self.xml_file)\n",
    "        self.xml_root = tree.getroot()\n",
    "    \n",
    "    def parse_day(self):\n",
    "        i=0\n",
    "        flows = []\n",
    "        sets = { appSet: set([]),\n",
    "                 sourceIPSet: set([]),\n",
    "                 destIPSet: set([]),\n",
    "                 sourcePortSet: set([]),\n",
    "                 protocolSet: set([])\n",
    "        }\n",
    "        for element in root.iter(\"TestbedSunJun13Flows\"):\n",
    "            flow = {}\n",
    "            for k in element:\n",
    "                flow[k.tag] = k.text\n",
    "                if k.tag == 'appName':\n",
    "                    sets.app.add(k.text)\n",
    "                elif k.tag == 'source':\n",
    "                    sets.sourceIP.add(k.text)\n",
    "                elif k.tag == 'destination':\n",
    "                    sets.destIP.add(k.text)\n",
    "                elif k.tag == 'sourcePort':\n",
    "                    sets.sourcePort.add(k.text)\n",
    "                elif k.tag == 'protocolName':\n",
    "                    sets.protocol.add(k.text)\n",
    "            start = datetime.strptime(flow['startDateTime'],'%Y-%m-%dT%H:%M:%S')\n",
    "            stop = datetime.strptime(flow['stopDateTime'],'%Y-%m-%dT%H:%M:%S')\n",
    "            duration = (stop-start).total_seconds()\n",
    "            flow['duration'] = duration\n",
    "            flows.append(flow)\n",
    "            \n",
    "        return([flows, sets])"
   ]
  },
  {
   "cell_type": "code",
   "execution_count": null,
   "metadata": {
    "collapsed": false
   },
   "outputs": [
    {
     "name": "stdout",
     "output_type": "stream",
     "text": [
      "parsing: TestbedSatJun12Flows.xml\n"
     ]
    }
   ],
   "source": [
    "def day_def_generator(xml_and_type):\n",
    "    return day_definition(xml_and_type[0], xml_and_type[1])\n",
    "\n",
    "days_raw = [['TestbedSatJun12Flows.xml', 'brute_force'],\n",
    "           ['TestbedSunJun13Flows.xml', 'internal'],\n",
    "           ['TestbedMonJun14Flows.xml', 'ddos'],\n",
    "           ['TestbedTueJun15-1Flows.xml', 'irc_botnet_ddos'],\n",
    "           ['TestbedTueJun15-2Flows.xml', 'irc_botnet_ddos'],\n",
    "           ['TestbedTueJun15-3Flows.xml', 'irc_botnet_ddos'],\n",
    "           ['TestbedWedJun16-1Flows.xml', 'brute_force'],\n",
    "           ['TestbedWedJun16-2Flows.xml', 'brute_force'],\n",
    "           ['TestbedWedJun16-3Flows.xml', 'brute_force'],\n",
    "           ['TestbedThuJun17-1Flows_cleaned.xml', 'ssh_brute_force'],\n",
    "           ['TestbedThuJun17-2Flows.xml', 'ssh_brute_force'],\n",
    "           ['TestbedThuJun17-3Flows.xml', 'ssh_brute_force']]\n",
    "\n",
    "days = list(map(day_def_generator, days_raw))"
   ]
  },
  {
   "cell_type": "code",
   "execution_count": null,
   "metadata": {
    "collapsed": true
   },
   "outputs": [],
   "source": []
  }
 ],
 "metadata": {
  "kernelspec": {
   "display_name": "Python 3",
   "language": "python",
   "name": "python3"
  },
  "language_info": {
   "codemirror_mode": {
    "name": "ipython",
    "version": 3
   },
   "file_extension": ".py",
   "mimetype": "text/x-python",
   "name": "python",
   "nbconvert_exporter": "python",
   "pygments_lexer": "ipython3",
   "version": "3.5.2"
  }
 },
 "nbformat": 4,
 "nbformat_minor": 1
}
