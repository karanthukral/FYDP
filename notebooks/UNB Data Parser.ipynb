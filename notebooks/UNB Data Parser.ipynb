{
 "cells": [
  {
   "cell_type": "code",
   "execution_count": 1,
   "metadata": {
    "collapsed": true
   },
   "outputs": [],
   "source": [
    "# Imports\n",
    "import os\n",
    "from datetime import datetime\n",
    "import xml.etree.ElementTree as ET\n",
    "\n",
    "import numpy as np"
   ]
  },
  {
   "cell_type": "code",
   "execution_count": 2,
   "metadata": {
    "collapsed": true
   },
   "outputs": [],
   "source": [
    "DATA_DIR = '../local_data/xml/'\n",
    "OUT_DIR = '../local_data/features'"
   ]
  },
  {
   "cell_type": "code",
   "execution_count": 3,
   "metadata": {
    "collapsed": true
   },
   "outputs": [],
   "source": [
    "class day_definition:\n",
    "    def __init__(self, day_xml_file_name, attack_type):\n",
    "        print(\"parsing: \" + day_xml_file_name)\n",
    "        \n",
    "        self.day_xml_file_name = day_xml_file_name\n",
    "        self.attack_type = attack_type\n",
    "        self.xml_file = os.path.join(DATA_DIR, self.day_xml_file_name)\n",
    "        \n",
    "        tree = ET.parse(self.xml_file)\n",
    "        self.xml_root = tree.getroot()\n",
    "    \n",
    "    def parse_day(self):\n",
    "        i=0\n",
    "        flows = []\n",
    "        sets = { \n",
    "            \"app\": set([]),\n",
    "            \"sourceIP\": set([]),\n",
    "            \"destIP\": set([]),\n",
    "            \"sourcePort\": set([]),\n",
    "            \"protocol\": set([])\n",
    "        }\n",
    "        element_name = self.xml_root.getchildren()[0].tag\n",
    "        for element in self.xml_root.iter(element_name):\n",
    "            flow = {}\n",
    "            for k in element:\n",
    "                flow[k.tag] = k.text\n",
    "                if k.tag == 'appName':\n",
    "                    sets['app'].add(k.text)\n",
    "                elif k.tag == 'source':\n",
    "                    sets['sourceIP'].add(k.text)\n",
    "                elif k.tag == 'destination':\n",
    "                    sets['destIP'].add(k.text)\n",
    "                elif k.tag == 'sourcePort':\n",
    "                    sets['sourcePort'].add(k.text)\n",
    "                elif k.tag == 'protocolName':\n",
    "                    sets['protocol'].add(k.text)\n",
    "            start = datetime.strptime(flow['startDateTime'],'%Y-%m-%dT%H:%M:%S')\n",
    "            stop = datetime.strptime(flow['stopDateTime'],'%Y-%m-%dT%H:%M:%S')\n",
    "            duration = (stop-start).total_seconds()\n",
    "            flow['duration'] = duration\n",
    "            flows.append(flow)\n",
    "            \n",
    "        return([flows, sets])"
   ]
  },
  {
   "cell_type": "code",
   "execution_count": 4,
   "metadata": {
    "collapsed": false
   },
   "outputs": [
    {
     "name": "stdout",
     "output_type": "stream",
     "text": [
      "parsing: TestbedSatJun12Flows.xml\n",
      "parsing: TestbedSunJun13Flows.xml\n",
      "parsing: TestbedMonJun14Flows.xml\n",
      "parsing: TestbedTueJun15-1Flows.xml\n",
      "parsing: TestbedTueJun15-2Flows.xml\n",
      "parsing: TestbedTueJun15-3Flows.xml\n",
      "parsing: TestbedWedJun16-1Flows.xml\n",
      "parsing: TestbedWedJun16-2Flows.xml\n",
      "parsing: TestbedWedJun16-3Flows.xml\n",
      "parsing: TestbedThuJun17-1Flows_cleaned.xml\n",
      "parsing: TestbedThuJun17-2Flows.xml\n",
      "parsing: TestbedThuJun17-3Flows.xml\n"
     ]
    }
   ],
   "source": [
    "def day_def_generator(xml_and_type):\n",
    "    return day_definition(xml_and_type[0], xml_and_type[1])\n",
    "\n",
    "def set_to_k_v_pair(set_to_convert):\n",
    "    dict_to_return = {}\n",
    "    for idx, el in enumerate(set_to_convert):\n",
    "        dict_to_return[str(el)] = idx\n",
    "    return dict_to_return\n",
    "\n",
    "def parse_day(day):\n",
    "    day_obj = day_def_generator(day)\n",
    "    day_name = day_obj.day_xml_file_name.split(\"Flows.\")[0].split('Testbed')[1]\n",
    "    flows, sets = day_obj.parse_day()\n",
    "    \n",
    "    protocol_dict = set_to_k_v_pair(sets['protocol'])\n",
    "    \n",
    "    labels = []\n",
    "    feature_matrix = []\n",
    "\n",
    "    for flow in flows:\n",
    "        feature = []\n",
    "        feature.append(int(flow['totalSourcePackets']))\n",
    "        feature.append(int(flow['totalSourceBytes']))\n",
    "        feature.append(int(flow['totalDestinationPackets']))\n",
    "        feature.append(int(flow['totalDestinationBytes']))\n",
    "        feature.append(flow['duration'])\n",
    "\n",
    "        one_hot_protocol = np.zeros(len(protocol_dict))\n",
    "        one_hot_protocol[protocol_dict[flow['protocolName']]] = 1.0\n",
    "        feature.extend(one_hot_protocol)\n",
    "\n",
    "\n",
    "        feature_matrix.append(feature)\n",
    "        labels.append(0 if flow['Tag'] == 'Attack' else 1)\n",
    "        \n",
    "    np.save(os.path.join(OUT_DIR, \"features\" + day_name + \".npy\"), np.matrix(feature_matrix))\n",
    "    np.save(os.path.join(OUT_DIR, \"labels\" + day_name + \".npy\"), np.matrix(labels))\n",
    "\n",
    "days_raw = [['TestbedSatJun12Flows.xml', 'brute_force'],\n",
    "           ['TestbedSunJun13Flows.xml', 'internal'],\n",
    "           ['TestbedMonJun14Flows.xml', 'ddos'],\n",
    "           ['TestbedTueJun15-1Flows.xml', 'irc_botnet_ddos'],\n",
    "           ['TestbedTueJun15-2Flows.xml', 'irc_botnet_ddos'],\n",
    "           ['TestbedTueJun15-3Flows.xml', 'irc_botnet_ddos'],\n",
    "           ['TestbedWedJun16-1Flows.xml', 'brute_force'],\n",
    "           ['TestbedWedJun16-2Flows.xml', 'brute_force'],\n",
    "           ['TestbedWedJun16-3Flows.xml', 'brute_force'],\n",
    "           ['TestbedThuJun17-1Flows_cleaned.xml', 'ssh_brute_force'],\n",
    "           ['TestbedThuJun17-2Flows.xml', 'ssh_brute_force'],\n",
    "           ['TestbedThuJun17-3Flows.xml', 'ssh_brute_force']]\n",
    "\n",
    "for day in days_raw:\n",
    "    parse_day(day)"
   ]
  },
  {
   "cell_type": "code",
   "execution_count": null,
   "metadata": {
    "collapsed": true
   },
   "outputs": [],
   "source": []
  }
 ],
 "metadata": {
  "kernelspec": {
   "display_name": "Python 3",
   "language": "python",
   "name": "python3"
  },
  "language_info": {
   "codemirror_mode": {
    "name": "ipython",
    "version": 3
   },
   "file_extension": ".py",
   "mimetype": "text/x-python",
   "name": "python",
   "nbconvert_exporter": "python",
   "pygments_lexer": "ipython3",
   "version": "3.5.2"
  }
 },
 "nbformat": 4,
 "nbformat_minor": 1
}
