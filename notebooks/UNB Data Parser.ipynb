{
 "cells": [
  {
   "cell_type": "code",
   "execution_count": 1,
   "metadata": {
    "collapsed": true
   },
   "outputs": [],
   "source": [
    "# Imports\n",
    "import os\n",
    "from datetime import datetime\n",
    "import xml.etree.ElementTree as ET\n",
    "\n",
    "import numpy as np"
   ]
  },
  {
   "cell_type": "code",
   "execution_count": 2,
   "metadata": {
    "collapsed": true
   },
   "outputs": [],
   "source": [
    "DATA_DIR = '../local_data/xml/'\n",
    "OUT_DIR = '../local_data/features'\n",
    "TIME_FORMAT = '%Y-%m-%dT%H:%M:%S'\n",
    "\n",
    "set_names = [\"appName\", \"source\", \"destination\", \"sourcePort\", \"protocolName\"]\n",
    "dict_set_names = dict(zip(set_names, [None for i in set_names])) # sort of shitty attempt at speeding up the lookup\n",
    "\n",
    "def make_set_dict():\n",
    "    return { k: set([]) for k in set_names }"
   ]
  },
  {
   "cell_type": "code",
   "execution_count": 3,
   "metadata": {
    "collapsed": true
   },
   "outputs": [],
   "source": [
    "class day_definition:\n",
    "    def __init__(self, day_xml_file_name, attack_type):\n",
    "        print(\"parsing: \" + day_xml_file_name)\n",
    "        \n",
    "        self.day_xml_file_name = day_xml_file_name\n",
    "        self.attack_type = attack_type\n",
    "        self.xml_file = os.path.join(DATA_DIR, self.day_xml_file_name)\n",
    "        \n",
    "        tree = ET.parse(self.xml_file)\n",
    "        self.xml_root = tree.getroot()\n",
    "    \n",
    "    def parse_day(self):\n",
    "        i=0\n",
    "        flows = []\n",
    "        sets = make_set_dict()\n",
    "\n",
    "        element_name = self.xml_root.getchildren()[0].tag\n",
    "        for element in self.xml_root.iter(element_name):\n",
    "            flow = {}\n",
    "            for k in element:\n",
    "                flow[k.tag] = k.text\n",
    "                if k.tag in dict_set_names:\n",
    "                    sets[k.tag].add(k.text)\n",
    "            start = datetime.strptime(flow['startDateTime'], TIME_FORMAT)\n",
    "            stop = datetime.strptime(flow['stopDateTime'], TIME_FORMAT)\n",
    "            duration = (stop-start).total_seconds()\n",
    "            flow['duration'] = duration\n",
    "            if flow['Tag'] == 'Attack':\n",
    "                flow['Tag'] = self.attack_type\n",
    "            flows.append(flow)\n",
    "            \n",
    "        return([flows, sets])"
   ]
  },
  {
   "cell_type": "code",
   "execution_count": 4,
   "metadata": {
    "collapsed": false
   },
   "outputs": [
    {
     "name": "stdout",
     "output_type": "stream",
     "text": [
      "parsing: TestbedSatJun12Flows.xml\n",
      "parsing: TestbedSunJun13Flows.xml\n",
      "parsing: TestbedMonJun14Flows.xml\n",
      "parsing: TestbedTueJun15-1Flows.xml\n",
      "parsing: TestbedTueJun15-2Flows.xml\n",
      "parsing: TestbedTueJun15-3Flows.xml\n",
      "parsing: TestbedWedJun16-1Flows.xml\n",
      "parsing: TestbedWedJun16-2Flows.xml\n",
      "parsing: TestbedWedJun16-3Flows.xml\n",
      "parsing: TestbedThuJun17-1Flows_cleaned.xml\n",
      "parsing: TestbedThuJun17-2Flows.xml\n",
      "parsing: TestbedThuJun17-3Flows.xml\n",
      "CPU times: user 15min 18s, sys: 15.4 s, total: 15min 33s\n",
      "Wall time: 15min 33s\n"
     ]
    }
   ],
   "source": [
    "%%time\n",
    "\n",
    "def day_def_generator(xml_and_type):\n",
    "    return day_definition(xml_and_type[0], xml_and_type[1])\n",
    "\n",
    "days_raw = [['TestbedSatJun12Flows.xml', 'brute_force'],\n",
    "           ['TestbedSunJun13Flows.xml', 'internal'],\n",
    "           ['TestbedMonJun14Flows.xml', 'ddos'],\n",
    "           ['TestbedTueJun15-1Flows.xml', 'irc_botnet_ddos'],\n",
    "           ['TestbedTueJun15-2Flows.xml', 'irc_botnet_ddos'],\n",
    "           ['TestbedTueJun15-3Flows.xml', 'irc_botnet_ddos'],\n",
    "           ['TestbedWedJun16-1Flows.xml', 'brute_force'],\n",
    "           ['TestbedWedJun16-2Flows.xml', 'brute_force'],\n",
    "           ['TestbedWedJun16-3Flows.xml', 'brute_force'],\n",
    "           ['TestbedThuJun17-1Flows_cleaned.xml', 'ssh_brute_force'],\n",
    "           ['TestbedThuJun17-2Flows.xml', 'ssh_brute_force'],\n",
    "           ['TestbedThuJun17-3Flows.xml', 'ssh_brute_force']]\n",
    "\n",
    "flows = []\n",
    "all_sets = make_set_dict()\n",
    "# get flows and sets\n",
    "for day in days_raw:\n",
    "    day_flows, sets = day_def_generator(day).parse_day()\n",
    "    flows = flows + day_flows\n",
    "    \n",
    "    for k in sets: # union all sets together for mega feature possibility list\n",
    "        all_sets[k] = all_sets[k] | sets[k]"
   ]
  },
  {
   "cell_type": "code",
   "execution_count": 6,
   "metadata": {
    "collapsed": false
   },
   "outputs": [
    {
     "name": "stdout",
     "output_type": "stream",
     "text": [
      "CPU times: user 1min 34s, sys: 2.48 s, total: 1min 36s\n",
      "Wall time: 1min 36s\n"
     ]
    }
   ],
   "source": [
    "%%time\n",
    "\n",
    "def set_to_k_v_pair(set_to_convert):\n",
    "    dict_to_return = {}\n",
    "    for idx, el in enumerate(set_to_convert):\n",
    "        dict_to_return[str(el)] = idx\n",
    "    return dict_to_return\n",
    "\n",
    "protocol_dict = set_to_k_v_pair(all_sets['protocolName'])\n",
    "\n",
    "labels = []\n",
    "feature_matrix = []\n",
    "\n",
    "for flow in flows:\n",
    "    feature = []\n",
    "    feature.append(int(flow['totalSourcePackets']))\n",
    "    feature.append(int(flow['totalSourceBytes']))\n",
    "    feature.append(int(flow['totalDestinationPackets']))\n",
    "    feature.append(int(flow['totalDestinationBytes']))\n",
    "    feature.append(flow['duration'])\n",
    "\n",
    "    one_hot_protocol = np.zeros(len(protocol_dict))\n",
    "    one_hot_protocol[protocol_dict[flow['protocolName']]] = 1.0\n",
    "    feature.extend(one_hot_protocol)\n",
    "\n",
    "    feature_matrix.append(feature)\n",
    "    labels.append(flow['Tag'])\n",
    "\n",
    "np.save(os.path.join(OUT_DIR, \"features.npy\"), np.matrix(feature_matrix))\n",
    "np.save(os.path.join(OUT_DIR, \"labels.npy\"), np.matrix(labels))"
   ]
  },
  {
   "cell_type": "code",
   "execution_count": null,
   "metadata": {
    "collapsed": true
   },
   "outputs": [],
   "source": []
  }
 ],
 "metadata": {
  "kernelspec": {
   "display_name": "Python 3",
   "language": "python",
   "name": "python3"
  },
  "language_info": {
   "codemirror_mode": {
    "name": "ipython",
    "version": 3
   },
   "file_extension": ".py",
   "mimetype": "text/x-python",
   "name": "python",
   "nbconvert_exporter": "python",
   "pygments_lexer": "ipython3",
   "version": "3.5.2"
  }
 },
 "nbformat": 4,
 "nbformat_minor": 1
}
