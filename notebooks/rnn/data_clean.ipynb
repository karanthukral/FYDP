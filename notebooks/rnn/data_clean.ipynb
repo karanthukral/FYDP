{
 "cells": [
  {
   "cell_type": "code",
   "execution_count": 7,
   "metadata": {
    "collapsed": false
   },
   "outputs": [],
   "source": [
    "import itertools\n",
    "from os import path\n",
    "import os\n",
    "import random\n",
    "\n",
    "from ngram import NGram\n",
    "import numpy as np\n",
    "import tensorflow as tf\n",
    "\n",
    "from sklearn.model_selection import train_test_split"
   ]
  },
  {
   "cell_type": "code",
   "execution_count": 17,
   "metadata": {
    "collapsed": false
   },
   "outputs": [],
   "source": [
    "class data_cleaner:\n",
    "    def __init__(self):\n",
    "        self.DATA_DIR = \"../../data\"\n",
    "\n",
    "        bro_file = path.join(self.DATA_DIR, \"bro.dat\")\n",
    "        good_urls_file = path.join(self.DATA_DIR, \"top-1m.csv\")\n",
    "        tf_record_file = path.join(self.DATA_DIR, \"rnn_data.tfrecord\")\n",
    "\n",
    "        DOMAIN_STR = 'Intel::DOMAIN'\n",
    "        MAX_DOMAINS = 50000\n",
    "\n",
    "        bad_domains = []\n",
    "        good_domains = []\n",
    "\n",
    "        with open(bro_file) as f:                                               \n",
    "            f.readline()  # first line is a comment. skip over it now\n",
    "            for idx, line in enumerate(f):\n",
    "                l = line.strip().split(\"\\t\")\n",
    "                if len(l) is not 4:\n",
    "                    continue\n",
    "\n",
    "                if l[1] == DOMAIN_STR and len(bad_domains) < MAX_DOMAINS:\n",
    "                    bad_domains.append(l[0].lower())\n",
    "\n",
    "        with open(good_urls_file) as f:\n",
    "            for idx, line in enumerate(f):\n",
    "                if idx < MAX_DOMAINS:\n",
    "                    good_domain = line.rstrip().split(\",\")[1].lower()\n",
    "                    good_domains.append(good_domain)\n",
    "\n",
    "        self.domains = [[d,0] for d in good_domains] + [[d,1] for d in bad_domains]\n",
    "        random.shuffle(self.domains)   \n",
    "        \n",
    "        alph = list(\"abcdefghijklmnopqrstuvwxyz1234567890.-\")\n",
    "        char_lookup = dict(zip(alph,range(len(alph))))\n",
    "\n",
    "        with open(tf_record_file, 'w') as f:\n",
    "            writer = tf.python_io.TFRecordWriter(f.name)\n",
    "            for domain, label in self.domains:\n",
    "                ex = self._make_example(domain, label)\n",
    "                writer.write(ex.SerializeToString())\n",
    "            writer.close()\n",
    "\n",
    "    def _make_example(self, domain, label):\n",
    "        ex = tf.train.SequenceExample()\n",
    "\n",
    "        domain_length = len(domain)\n",
    "        ex.context.feature[\"length\"].int64_list.value.append(domain_length)\n",
    "        ex.context.feature[\"label\"].int64_list.value.append(label)\n",
    "        ex.context.feature[\"domains\"].bytes_list.value.append(bytes(domain, encoding=\"utf8\"))\n",
    "            \n",
    "        return ex\n",
    "\n",
    "    @staticmethod\n",
    "    def to_one_hot(number, length):\n",
    "        if number >= length:\n",
    "            length = number + 1\n",
    "        arr = [0] * length\n",
    "        arr[number] = 1\n",
    "\n",
    "        return arr"
   ]
  },
  {
   "cell_type": "code",
   "execution_count": 18,
   "metadata": {
    "collapsed": false
   },
   "outputs": [],
   "source": [
    "x = data_cleaner()"
   ]
  },
  {
   "cell_type": "code",
   "execution_count": 10,
   "metadata": {
    "collapsed": false
   },
   "outputs": [
    {
     "data": {
      "text/plain": [
       "[0, 0, 1, 0, 0]"
      ]
     },
     "execution_count": 10,
     "metadata": {},
     "output_type": "execute_result"
    }
   ],
   "source": [
    "data_cleaner.to_one_hot(2,5)"
   ]
  },
  {
   "cell_type": "code",
   "execution_count": null,
   "metadata": {
    "collapsed": true
   },
   "outputs": [],
   "source": []
  }
 ],
 "metadata": {
  "kernelspec": {
   "display_name": "Python 3",
   "language": "python",
   "name": "python3"
  },
  "language_info": {
   "codemirror_mode": {
    "name": "ipython",
    "version": 3
   },
   "file_extension": ".py",
   "mimetype": "text/x-python",
   "name": "python",
   "nbconvert_exporter": "python",
   "pygments_lexer": "ipython3",
   "version": "3.5.2"
  }
 },
 "nbformat": 4,
 "nbformat_minor": 1
}
