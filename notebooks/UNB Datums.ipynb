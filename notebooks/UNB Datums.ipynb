{
 "cells": [
  {
   "cell_type": "code",
   "execution_count": 1,
   "metadata": {
    "collapsed": false
   },
   "outputs": [],
   "source": [
    "import os\n",
    "from datetime import datetime\n",
    "\n",
    "import numpy as np\n",
    "import unbsatsubs\n",
    "DATA_DIR = '../local_data/xml/'\n",
    "sat_xml = os.path.join(DATA_DIR, 'TestbedSatJun12Flows.xml')"
   ]
  },
  {
   "cell_type": "code",
   "execution_count": 2,
   "metadata": {
    "collapsed": false
   },
   "outputs": [],
   "source": [
    "root = unbsatsubs.parsexml_(sat_xml)"
   ]
  },
  {
   "cell_type": "code",
   "execution_count": 3,
   "metadata": {
    "collapsed": false
   },
   "outputs": [],
   "source": [
    "i=0\n",
    "flows = []\n",
    "appSet = set([])\n",
    "sourceIPSet = set([])\n",
    "destIPSet = set([])\n",
    "sourcePortSet = set([])\n",
    "protocolSet = set([])\n",
    "for element in root.iter(\"TestbedSatJun12\"):\n",
    "    flow = {}\n",
    "    for k in element:\n",
    "        flow[k.tag] = k.text\n",
    "        if k.tag == 'appName':\n",
    "            appSet.add(k.text)\n",
    "        elif k.tag == 'source':\n",
    "            sourceIPSet.add(k.text)\n",
    "        elif k.tag == 'destination':\n",
    "            destIPSet.add(k.text)\n",
    "        elif k.tag == 'sourcePort':\n",
    "            sourcePortSet.add(k.text)\n",
    "        elif k.tag == 'protocolName':\n",
    "            protocolSet.add(k.text)\n",
    "    start = datetime.strptime(flow['startDateTime'],'%Y-%m-%dT%H:%M:%S')\n",
    "    stop = datetime.strptime(flow['stopDateTime'],'%Y-%m-%dT%H:%M:%S')\n",
    "    duration = (stop-start).total_seconds()\n",
    "    flow['duration'] = duration\n",
    "    flows.append(flow)    "
   ]
  },
  {
   "cell_type": "code",
   "execution_count": 4,
   "metadata": {
    "collapsed": false
   },
   "outputs": [
    {
     "data": {
      "text/plain": [
       "{'Tag': 'Normal',\n",
       " 'appName': 'HTTPImageTransfer',\n",
       " 'destination': '216.246.64.49',\n",
       " 'destinationPayloadAsBase64': None,\n",
       " 'destinationPayloadAsUTF': None,\n",
       " 'destinationPort': '80',\n",
       " 'destinationTCPFlagsDescription': 'S,P,A',\n",
       " 'direction': 'L2R',\n",
       " 'duration': 3.0,\n",
       " 'protocolName': 'tcp_ip',\n",
       " 'source': '192.168.1.104',\n",
       " 'sourcePayloadAsBase64': None,\n",
       " 'sourcePayloadAsUTF': None,\n",
       " 'sourcePort': '22441',\n",
       " 'sourceTCPFlagsDescription': 'S,P,A',\n",
       " 'startDateTime': '2010-06-12T23:57:10',\n",
       " 'stopDateTime': '2010-06-12T23:57:13',\n",
       " 'totalDestinationBytes': '135295',\n",
       " 'totalDestinationPackets': '104',\n",
       " 'totalSourceBytes': '5655',\n",
       " 'totalSourcePackets': '67'}"
      ]
     },
     "execution_count": 4,
     "metadata": {},
     "output_type": "execute_result"
    }
   ],
   "source": [
    "flows[123]"
   ]
  },
  {
   "cell_type": "code",
   "execution_count": 5,
   "metadata": {
    "collapsed": false
   },
   "outputs": [],
   "source": [
    "def set_to_k_v_pair(set_to_convert):\n",
    "    dict_to_return = {}\n",
    "    for idx, el in enumerate(set_to_convert):\n",
    "        dict_to_return[str(el)] = idx\n",
    "    return dict_to_return\n",
    "\n",
    "protocol_dict = set_to_k_v_pair(protocolSet)\n",
    "\n",
    "labels = []\n",
    "feature_matrix = []\n",
    "\n",
    "for flow in flows:\n",
    "    feature = []\n",
    "    feature.append(int(flow['totalSourcePackets']))\n",
    "    feature.append(int(flow['totalSourceBytes']))\n",
    "    feature.append(int(flow['totalDestinationPackets']))\n",
    "    feature.append(int(flow['totalDestinationBytes']))\n",
    "    feature.append(flow['duration'])\n",
    "    \n",
    "    one_hot_protocol = np.zeros(len(protocol_dict))\n",
    "    one_hot_protocol[protocol_dict[flow['protocolName']]] = 1.0\n",
    "    feature.extend(one_hot_protocol)\n",
    "\n",
    "\n",
    "    feature_matrix.append(feature)\n",
    "    labels.append(flow['Tag'])"
   ]
  },
  {
   "cell_type": "code",
   "execution_count": 6,
   "metadata": {
    "collapsed": false
   },
   "outputs": [],
   "source": [
    "np.save(os.path.join(DATA_DIR, \"features.npy\"), np.matrix(feature_matrix))\n",
    "np.save(os.path.join(DATA_DIR, \"labels.npy\"), np.matrix(labels))"
   ]
  },
  {
   "cell_type": "code",
   "execution_count": null,
   "metadata": {
    "collapsed": true
   },
   "outputs": [],
   "source": []
  }
 ],
 "metadata": {
  "kernelspec": {
   "display_name": "Python 3",
   "language": "python",
   "name": "python3"
  },
  "language_info": {
   "codemirror_mode": {
    "name": "ipython",
    "version": 3
   },
   "file_extension": ".py",
   "mimetype": "text/x-python",
   "name": "python",
   "nbconvert_exporter": "python",
   "pygments_lexer": "ipython3",
   "version": "3.5.1+"
  }
 },
 "nbformat": 4,
 "nbformat_minor": 1
}
