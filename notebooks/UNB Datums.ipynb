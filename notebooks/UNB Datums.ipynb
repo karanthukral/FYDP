{
 "cells": [
  {
   "cell_type": "code",
   "execution_count": 7,
   "metadata": {
    "collapsed": false
   },
   "outputs": [],
   "source": [
    "import os\n",
    "import unbsatsubs\n",
    "DATA_DIR = '../local_data/xml/'\n",
    "sat_xml = os.path.join(DATA_DIR, 'TestbedSatJun12Flows.xml')"
   ]
  },
  {
   "cell_type": "code",
   "execution_count": 10,
   "metadata": {
    "collapsed": false
   },
   "outputs": [],
   "source": [
    "root = unbsatsubs.parsexml_(sat_xml)"
   ]
  },
  {
   "cell_type": "code",
   "execution_count": 53,
   "metadata": {
    "collapsed": false
   },
   "outputs": [],
   "source": [
    "i=0\n",
    "flows = []\n",
    "for element in root.iter(\"TestbedSatJun12\"):\n",
    "    flow = {}\n",
    "    for k in element:\n",
    "        flow[k.tag] = k.text\n",
    "    flows.append(flow)    \n",
    "    \n",
    "    i = i+1\n",
    "    if i>5:\n",
    "        break"
   ]
  },
  {
   "cell_type": "code",
   "execution_count": 54,
   "metadata": {
    "collapsed": false
   },
   "outputs": [
    {
     "data": {
      "text/plain": [
       "[{'Tag': 'Normal',\n",
       "  'appName': 'HTTPWeb',\n",
       "  'destination': '216.246.64.49',\n",
       "  'destinationPayloadAsBase64': None,\n",
       "  'destinationPayloadAsUTF': None,\n",
       "  'destinationPort': '80',\n",
       "  'destinationTCPFlagsDescription': 'F,A',\n",
       "  'direction': 'L2R',\n",
       "  'protocolName': 'tcp_ip',\n",
       "  'source': '192.168.1.104',\n",
       "  'sourcePayloadAsBase64': None,\n",
       "  'sourcePayloadAsUTF': None,\n",
       "  'sourcePort': '22441',\n",
       "  'sourceTCPFlagsDescription': 'F,A',\n",
       "  'startDateTime': '2010-06-12T23:58:53',\n",
       "  'stopDateTime': '2010-06-12T23:58:53',\n",
       "  'totalDestinationBytes': '64',\n",
       "  'totalDestinationPackets': '1',\n",
       "  'totalSourceBytes': '128',\n",
       "  'totalSourcePackets': '2'},\n",
       " {'Tag': 'Normal',\n",
       "  'appName': 'HTTPWeb',\n",
       "  'destination': '216.246.64.66',\n",
       "  'destinationPayloadAsBase64': None,\n",
       "  'destinationPayloadAsUTF': None,\n",
       "  'destinationPort': '80',\n",
       "  'destinationTCPFlagsDescription': 'F,A',\n",
       "  'direction': 'L2R',\n",
       "  'protocolName': 'tcp_ip',\n",
       "  'source': '192.168.1.104',\n",
       "  'sourcePayloadAsBase64': None,\n",
       "  'sourcePayloadAsUTF': None,\n",
       "  'sourcePort': '22445',\n",
       "  'sourceTCPFlagsDescription': 'F,A',\n",
       "  'startDateTime': '2010-06-12T23:58:53',\n",
       "  'stopDateTime': '2010-06-12T23:58:53',\n",
       "  'totalDestinationBytes': '64',\n",
       "  'totalDestinationPackets': '1',\n",
       "  'totalSourceBytes': '128',\n",
       "  'totalSourcePackets': '2'},\n",
       " {'Tag': 'Normal',\n",
       "  'appName': 'HTTPWeb',\n",
       "  'destination': '216.246.64.66',\n",
       "  'destinationPayloadAsBase64': None,\n",
       "  'destinationPayloadAsUTF': None,\n",
       "  'destinationPort': '80',\n",
       "  'destinationTCPFlagsDescription': 'F,A',\n",
       "  'direction': 'L2R',\n",
       "  'protocolName': 'tcp_ip',\n",
       "  'source': '192.168.1.104',\n",
       "  'sourcePayloadAsBase64': None,\n",
       "  'sourcePayloadAsUTF': None,\n",
       "  'sourcePort': '22444',\n",
       "  'sourceTCPFlagsDescription': 'F,A',\n",
       "  'startDateTime': '2010-06-12T23:58:52',\n",
       "  'stopDateTime': '2010-06-12T23:58:52',\n",
       "  'totalDestinationBytes': '64',\n",
       "  'totalDestinationPackets': '1',\n",
       "  'totalSourceBytes': '128',\n",
       "  'totalSourcePackets': '2'},\n",
       " {'Tag': 'Normal',\n",
       "  'appName': 'SSH',\n",
       "  'destination': '192.168.5.122',\n",
       "  'destinationPayloadAsBase64': None,\n",
       "  'destinationPayloadAsUTF': None,\n",
       "  'destinationPort': '22',\n",
       "  'destinationTCPFlagsDescription': 'S,P,A',\n",
       "  'direction': 'L2L',\n",
       "  'protocolName': 'tcp_ip',\n",
       "  'source': '192.168.3.115',\n",
       "  'sourcePayloadAsBase64': None,\n",
       "  'sourcePayloadAsUTF': None,\n",
       "  'sourcePort': '3248',\n",
       "  'sourceTCPFlagsDescription': 'S,R,P,A',\n",
       "  'startDateTime': '2010-06-12T23:58:46',\n",
       "  'stopDateTime': '2010-06-12T23:58:51',\n",
       "  'totalDestinationBytes': '49570',\n",
       "  'totalDestinationPackets': '76',\n",
       "  'totalSourceBytes': '2938',\n",
       "  'totalSourcePackets': '27'},\n",
       " {'Tag': 'Normal',\n",
       "  'appName': 'HTTPImageTransfer',\n",
       "  'destination': '142.166.14.77',\n",
       "  'destinationPayloadAsBase64': None,\n",
       "  'destinationPayloadAsUTF': None,\n",
       "  'destinationPort': '80',\n",
       "  'destinationTCPFlagsDescription': 'S,P,A',\n",
       "  'direction': 'L2R',\n",
       "  'protocolName': 'tcp_ip',\n",
       "  'source': '192.168.2.110',\n",
       "  'sourcePayloadAsBase64': None,\n",
       "  'sourcePayloadAsUTF': None,\n",
       "  'sourcePort': '1867',\n",
       "  'sourceTCPFlagsDescription': 'S,P,A',\n",
       "  'startDateTime': '2010-06-12T23:58:50',\n",
       "  'stopDateTime': '2010-06-12T23:58:51',\n",
       "  'totalDestinationBytes': '2315',\n",
       "  'totalDestinationPackets': '5',\n",
       "  'totalSourceBytes': '644',\n",
       "  'totalSourcePackets': '7'},\n",
       " {'Tag': 'Normal',\n",
       "  'appName': 'IMAP',\n",
       "  'destination': '192.168.5.122',\n",
       "  'destinationPayloadAsBase64': 'KiBPSyBTdGlsbCBoZXJlDQoqIE9LIFN0aWxsIGhlcmUNCg==',\n",
       "  'destinationPayloadAsUTF': '* OK Still here* OK Still here',\n",
       "  'destinationPort': '143',\n",
       "  'destinationTCPFlagsDescription': 'P,A',\n",
       "  'direction': 'L2L',\n",
       "  'protocolName': 'tcp_ip',\n",
       "  'source': '192.168.2.111',\n",
       "  'sourcePayloadAsBase64': None,\n",
       "  'sourcePayloadAsUTF': None,\n",
       "  'sourcePort': '1112',\n",
       "  'sourceTCPFlagsDescription': 'A',\n",
       "  'startDateTime': '2010-06-12T23:58:51',\n",
       "  'stopDateTime': '2010-06-12T23:58:51',\n",
       "  'totalDestinationBytes': '150',\n",
       "  'totalDestinationPackets': '2',\n",
       "  'totalSourceBytes': '64',\n",
       "  'totalSourcePackets': '1'}]"
      ]
     },
     "execution_count": 54,
     "metadata": {},
     "output_type": "execute_result"
    }
   ],
   "source": [
    "flows"
   ]
  },
  {
   "cell_type": "code",
   "execution_count": null,
   "metadata": {
    "collapsed": true
   },
   "outputs": [],
   "source": []
  }
 ],
 "metadata": {
  "kernelspec": {
   "display_name": "Python 3",
   "language": "python",
   "name": "python3"
  },
  "language_info": {
   "codemirror_mode": {
    "name": "ipython",
    "version": 3
   },
   "file_extension": ".py",
   "mimetype": "text/x-python",
   "name": "python",
   "nbconvert_exporter": "python",
   "pygments_lexer": "ipython3",
   "version": "3.5.1+"
  }
 },
 "nbformat": 4,
 "nbformat_minor": 1
}
