{
 "cells": [
  {
   "cell_type": "code",
   "execution_count": 1,
   "metadata": {
    "collapsed": true
   },
   "outputs": [],
   "source": [
    "import re"
   ]
  },
  {
   "cell_type": "code",
   "execution_count": 2,
   "metadata": {
    "collapsed": false
   },
   "outputs": [
    {
     "data": {
      "text/plain": [
       "'<85>1 2016-08-31T22:05:56--4:00 192.168.0.12 CP-GW - Log [Fields@1.3.6.1.4.1.2620 Action=\" \" UUid=\"{0x0,0x0,0x0,0x0}\" log_id=\"4005\" file_type=\"xltm\" scanned=\"0\" scanned_last_day=\"0\" scanned_last_week=\"0\" scanned_last_month=\"0\" malware_detected=\"0\" malware_detected_last_day=\"0\" malware_detected_last_week=\"0\" malware_detected_last_month=\"0\" threatcloud_scanned=\"0\" threatcloud_scanned_last_day=\"0\" threatcloud_scanned_last_week=\"0\" threatcloud_scanned_last_month=\"0\" threatcloud_malware=\"0\" threatcloud_malware_detected_last_day=\"0\" threatcloud_malware_detected_last_week=\"0\" threatcloud_malware_detected_last_month=\"0\" filter_by_static_analysis=\"0\" filter_by_static_analysis_last_day=\"0\" filter_by_static_analysis_last_week=\"0\" filter_by_static_analysis_last_month=\"0\" cache_hit_rate=\"0\" cache_hit_rate_last_day=\"0\" cache_hit_rate_last_week=\"0\" cache_hit_rate_last_month=\"0\" error_count=\"0\" error_count_last_day=\"0\" error_count_last_week=\"0\" error_count_last_month=\"0\" no_resource_count=\"0\" no_resource_count_last_day=\"0\" no_resource_count_last_week=\"0\" no_resource_count_last_month=\"0\" product=\"Threat Emulation\" product_family=\"Network\"'"
      ]
     },
     "execution_count": 2,
     "metadata": {},
     "output_type": "execute_result"
    }
   ],
   "source": [
    "# syslog = '<85>1 2016-08-31T22:05:33--4:00 192.168.0.11 CP-GW - Log [Fields@1.3.6.1.4.1.2620 Action=\\\"accept\\\" UUid=\\\"{0x57c78ced,0x1,0x20410ac,0xc0000000}\\\" inzone=\\\"External\\\" outzone=\\\"Internal\\\" rule=\\\"51\\\" rule_uid=\\\"{AB51CF1A-6392-4F4C-8569-D4920E13FFEC}\\\" service_id=\\\"https\\\" src=\\\"174.115.234.156\\\" dst=\\\"68.71.192.202\\\" proto=\\\"6\\\" xlatedst=\\\"172.16.4.50\\\" NAT_rulenum=\\\"17\\\" NAT_addtnl_rulenum=\\\"1\\\" product=\\\"VPN-1 & FireWall-1\\\" service=\\\"443\\\" s_port=\\\"51693\\\" product_family=\\\"Network\\\"]'\n",
    "syslog = '<85>1 2016-08-31T22:05:56--4:00 192.168.0.12 CP-GW - Log [Fields@1.3.6.1.4.1.2620 Action=\\\" \\\" UUid=\\\"{0x0,0x0,0x0,0x0}\\\" log_id=\\\"4005\\\" file_type=\\\"xltm\\\" scanned=\\\"0\\\" scanned_last_day=\\\"0\\\" scanned_last_week=\\\"0\\\" scanned_last_month=\\\"0\\\" malware_detected=\\\"0\\\" malware_detected_last_day=\\\"0\\\" malware_detected_last_week=\\\"0\\\" malware_detected_last_month=\\\"0\\\" threatcloud_scanned=\\\"0\\\" threatcloud_scanned_last_day=\\\"0\\\" threatcloud_scanned_last_week=\\\"0\\\" threatcloud_scanned_last_month=\\\"0\\\" threatcloud_malware=\\\"0\\\" threatcloud_malware_detected_last_day=\\\"0\\\" threatcloud_malware_detected_last_week=\\\"0\\\" threatcloud_malware_detected_last_month=\\\"0\\\" filter_by_static_analysis=\\\"0\\\" filter_by_static_analysis_last_day=\\\"0\\\" filter_by_static_analysis_last_week=\\\"0\\\" filter_by_static_analysis_last_month=\\\"0\\\" cache_hit_rate=\\\"0\\\" cache_hit_rate_last_day=\\\"0\\\" cache_hit_rate_last_week=\\\"0\\\" cache_hit_rate_last_month=\\\"0\\\" error_count=\\\"0\\\" error_count_last_day=\\\"0\\\" error_count_last_week=\\\"0\\\" error_count_last_month=\\\"0\\\" no_resource_count=\\\"0\\\" no_resource_count_last_day=\\\"0\\\" no_resource_count_last_week=\\\"0\\\" no_resource_count_last_month=\\\"0\\\" product=\\\"Threat Emulation\\\" product_family=\\\"Network\\\"'\n",
    "syslog"
   ]
  },
  {
   "cell_type": "code",
   "execution_count": 3,
   "metadata": {
    "collapsed": false
   },
   "outputs": [
    {
     "data": {
      "text/plain": [
       "{'Action': ' ',\n",
       " 'UUid': '{0x0,0x0,0x0,0x0}',\n",
       " 'cache_hit_rate': '0',\n",
       " 'cache_hit_rate_last_day': '0',\n",
       " 'cache_hit_rate_last_month': '0',\n",
       " 'cache_hit_rate_last_week': '0',\n",
       " 'error_count': '0',\n",
       " 'error_count_last_day': '0',\n",
       " 'error_count_last_month': '0',\n",
       " 'error_count_last_week': '0',\n",
       " 'file_type': 'xltm',\n",
       " 'filter_by_static_analysis': '0',\n",
       " 'filter_by_static_analysis_last_day': '0',\n",
       " 'filter_by_static_analysis_last_month': '0',\n",
       " 'filter_by_static_analysis_last_week': '0',\n",
       " 'log_id': '4005',\n",
       " 'malware_detected': '0',\n",
       " 'malware_detected_last_day': '0',\n",
       " 'malware_detected_last_month': '0',\n",
       " 'malware_detected_last_week': '0',\n",
       " 'no_resource_count': '0',\n",
       " 'no_resource_count_last_day': '0',\n",
       " 'no_resource_count_last_month': '0',\n",
       " 'no_resource_count_last_week': '0',\n",
       " 'product': 'Threat Emulation',\n",
       " 'product_family': 'Network',\n",
       " 'scanned': '0',\n",
       " 'scanned_last_day': '0',\n",
       " 'scanned_last_month': '0',\n",
       " 'scanned_last_week': '0',\n",
       " 'threatcloud_malware': '0',\n",
       " 'threatcloud_malware_detected_last_day': '0',\n",
       " 'threatcloud_malware_detected_last_month': '0',\n",
       " 'threatcloud_malware_detected_last_week': '0',\n",
       " 'threatcloud_scanned': '0',\n",
       " 'threatcloud_scanned_last_day': '0',\n",
       " 'threatcloud_scanned_last_month': '0',\n",
       " 'threatcloud_scanned_last_week': '0'}"
      ]
     },
     "execution_count": 3,
     "metadata": {},
     "output_type": "execute_result"
    }
   ],
   "source": [
    "kv = re.findall(\"(\\w*=\\\".*?\\\")\",syslog)\n",
    "sys_dict = {l[0]: l[1].strip(\"\\\"\") for l in [l.split(\"=\") for l in kv]}\n",
    "sys_dict"
   ]
  }
 ],
 "metadata": {
  "kernelspec": {
   "display_name": "Python 3",
   "language": "python",
   "name": "python3"
  },
  "language_info": {
   "codemirror_mode": {
    "name": "ipython",
    "version": 3
   },
   "file_extension": ".py",
   "mimetype": "text/x-python",
   "name": "python",
   "nbconvert_exporter": "python",
   "pygments_lexer": "ipython3",
   "version": "3.5.2"
  }
 },
 "nbformat": 4,
 "nbformat_minor": 1
}
