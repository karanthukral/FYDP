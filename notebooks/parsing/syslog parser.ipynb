{
 "cells": [
  {
   "cell_type": "code",
   "execution_count": 1,
   "metadata": {
    "collapsed": true
   },
   "outputs": [],
   "source": [
    "import re"
   ]
  },
  {
   "cell_type": "code",
   "execution_count": 2,
   "metadata": {
    "collapsed": false
   },
   "outputs": [],
   "source": [
    "syslog = \"<85>1 2016-08-31T22:05:33--4:00 192.168.0.11 CP-GW - Log [Fields@1.3.6.1.4.1.2620 Action=\\\"accept\\\" UUid=\\\"{0x57c78ced,0x1,0x20410ac,0xc0000000}\\\" inzone=\\\"External\\\" outzone=\\\"Internal\\\" rule=\\\"51\\\" rule_uid=\\\"{AB51CF1A-6392-4F4C-8569-D4920E13FFEC}\\\" service_id=\\\"https\\\" src=\\\"174.115.234.156\\\" dst=\\\"68.71.192.202\\\" proto=\\\"6\\\" xlatedst=\\\"172.16.4.50\\\" NAT_rulenum=\\\"17\\\" NAT_addtnl_rulenum=\\\"1\\\" product=\\\"VPN-1 & FireWall-1\\\" service=\\\"443\\\" s_port=\\\"51693\\\" product_family=\\\"Network\\\"]\""
   ]
  },
  {
   "cell_type": "code",
   "execution_count": 3,
   "metadata": {
    "collapsed": false
   },
   "outputs": [
    {
     "data": {
      "text/plain": [
       "{'Action': 'accept',\n",
       " 'NAT_addtnl_rulenum': '1',\n",
       " 'NAT_rulenum': '17',\n",
       " 'UUid': '{0x57c78ced,0x1,0x20410ac,0xc0000000}',\n",
       " 'dst': '68.71.192.202',\n",
       " 'inzone': 'External',\n",
       " 'outzone': 'Internal',\n",
       " 'product': 'VPN-1 & FireWall-1',\n",
       " 'product_family': 'Network',\n",
       " 'proto': '6',\n",
       " 'rule': '51',\n",
       " 'rule_uid': '{AB51CF1A-6392-4F4C-8569-D4920E13FFEC}',\n",
       " 's_port': '51693',\n",
       " 'service': '443',\n",
       " 'service_id': 'https',\n",
       " 'src': '174.115.234.156',\n",
       " 'xlatedst': '172.16.4.50'}"
      ]
     },
     "execution_count": 3,
     "metadata": {},
     "output_type": "execute_result"
    }
   ],
   "source": [
    "m = re.search(\"Log \\[(.*)\\]\", syslog).group(1).split(\" \", 1)[1]\n",
    "kv = re.findall(\"(\\w*=\\\".*?\\\")\",m)\n",
    "sys_dict = {l[0]: l[1].strip(\"\\\"\") for l in [l.split(\"=\") for l in kv]}\n",
    "sys_dict"
   ]
  },
  {
   "cell_type": "code",
   "execution_count": null,
   "metadata": {
    "collapsed": true
   },
   "outputs": [],
   "source": []
  }
 ],
 "metadata": {
  "kernelspec": {
   "display_name": "Python 3",
   "language": "python",
   "name": "python3"
  },
  "language_info": {
   "codemirror_mode": {
    "name": "ipython",
    "version": 3
   },
   "file_extension": ".py",
   "mimetype": "text/x-python",
   "name": "python",
   "nbconvert_exporter": "python",
   "pygments_lexer": "ipython3",
   "version": "3.5.2"
  }
 },
 "nbformat": 4,
 "nbformat_minor": 1
}
