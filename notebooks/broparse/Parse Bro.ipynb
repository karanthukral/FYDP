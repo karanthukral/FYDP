{
 "cells": [
  {
   "cell_type": "code",
   "execution_count": 1,
   "metadata": {
    "collapsed": false
   },
   "outputs": [],
   "source": [
    "from os import path\n",
    "import sys\n",
    "\n",
    "DATA_DIR = \"../../data\"\n",
    "bro_file = path.join(DATA_DIR, \"bro.dat\")\n",
    "\n",
    "DOMAIN_MATCH = 'Intel::DOMAIN'\n",
    "ADDR_MATCH = 'Intel::ADDR'\n",
    "URL_MATCH = 'Intel::URL'"
   ]
  },
  {
   "cell_type": "code",
   "execution_count": 2,
   "metadata": {
    "collapsed": false
   },
   "outputs": [
    {
     "name": "stdout",
     "output_type": "stream",
     "text": [
      "CPU times: user 1.32 s, sys: 76 ms, total: 1.39 s\n",
      "Wall time: 1.39 s\n"
     ]
    }
   ],
   "source": [
    "%%time\n",
    "\n",
    "urls = []\n",
    "addrs = []\n",
    "domains = []\n",
    "unknowns = []\n",
    "\n",
    "with open(bro_file) as f:\n",
    "    f.readline()\n",
    "    for idx, line in enumerate(f):\n",
    "        l = line.strip()\n",
    "            \n",
    "        l = l.split(\"\\t\")\n",
    "        if len(l) is not 4:\n",
    "            continue\n",
    "            \n",
    "        if l[1] == DOMAIN_MATCH:\n",
    "            domains.append(l[0])\n",
    "        elif l[1] == ADDR_MATCH:\n",
    "            addrs.append(l[0])\n",
    "        elif l[1] == URL_MATCH:\n",
    "            urls.append(l[0])\n",
    "        else:\n",
    "            unknowns.append(l)"
   ]
  },
  {
   "cell_type": "code",
   "execution_count": 3,
   "metadata": {
    "collapsed": false
   },
   "outputs": [
    {
     "name": "stdout",
     "output_type": "stream",
     "text": [
      "IPs: 155313\n",
      "URLs: 44224\n",
      "Domains: 1182345\n",
      "Etc: 9256\n"
     ]
    }
   ],
   "source": [
    "print(\"IPs: \" + str(len(addrs)))\n",
    "print(\"URLs: \" + str(len(urls)))\n",
    "print(\"Domains: \" + str(len(domains)))\n",
    "print(\"Etc: \" + str(len(unknowns)))"
   ]
  },
  {
   "cell_type": "code",
   "execution_count": 4,
   "metadata": {
    "collapsed": false
   },
   "outputs": [
    {
     "name": "stdout",
     "output_type": "stream",
     "text": [
      "{'Intel::EMAIL', 'Intel::FILE_NAME', 'Intel::FILE_HASH'}\n"
     ]
    }
   ],
   "source": [
    "print(set([l[1] for l in unknowns]))"
   ]
  },
  {
   "cell_type": "code",
   "execution_count": null,
   "metadata": {
    "collapsed": true
   },
   "outputs": [],
   "source": []
  }
 ],
 "metadata": {
  "kernelspec": {
   "display_name": "Python 3",
   "language": "python",
   "name": "python3"
  },
  "language_info": {
   "codemirror_mode": {
    "name": "ipython",
    "version": 3
   },
   "file_extension": ".py",
   "mimetype": "text/x-python",
   "name": "python",
   "nbconvert_exporter": "python",
   "pygments_lexer": "ipython3",
   "version": "3.5.2"
  }
 },
 "nbformat": 4,
 "nbformat_minor": 1
}
