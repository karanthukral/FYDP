{
 "cells": [
  {
   "cell_type": "code",
   "execution_count": 2,
   "metadata": {
    "collapsed": true
   },
   "outputs": [],
   "source": [
    "from elasticsearch import Elasticsearch\n",
    "import re\n",
    "es = Elasticsearch()"
   ]
  },
  {
   "cell_type": "code",
   "execution_count": 3,
   "metadata": {
    "collapsed": false
   },
   "outputs": [
    {
     "data": {
      "text/plain": [
       "441016"
      ]
     },
     "execution_count": 3,
     "metadata": {},
     "output_type": "execute_result"
    }
   ],
   "source": [
    "syslog_count = es.count(index=\"homequitybank-2016.09.01\", doc_type=\"syslog\")['count']\n",
    "syslog_count"
   ]
  },
  {
   "cell_type": "code",
   "execution_count": 4,
   "metadata": {
    "collapsed": false
   },
   "outputs": [
    {
     "data": {
      "text/plain": [
       "{'_shards': {'failed': 0, 'successful': 5, 'total': 5},\n",
       " 'hits': {'hits': [{'_id': 'AVbjgTarh76HlwhVdgfF',\n",
       "    '_index': 'homequitybank-2016.09.01',\n",
       "    '_score': 1.0,\n",
       "    '_source': {'@timestamp': '2016-09-01T02:08:30.721Z',\n",
       "     '@version': '1',\n",
       "     'customer': 'homequitybank',\n",
       "     'host': '172.16.1.3',\n",
       "     'message': '<85>1 2016-08-31T22:08:30--4:00 192.168.1.11 CP-GW - Log [Fields@1.3.6.1.4.1.2620 Action=\" \" UUid=\"{0x0,0x0,0x0,0x0}\" log_id=\"4005\" file_type=\"pif\" scanned=\"0\" scanned_last_day=\"0\" scanned_last_week=\"0\" scanned_last_month=\"0\" malware_detected=\"0\" malware_detected_last_day=\"0\" malware_detected_last_week=\"0\" malware_detected_last_month=\"0\" threatcloud_scanned=\"0\" threatcloud_scanned_last_day=\"0\" threatcloud_scanned_last_week=\"0\" threatcloud_scanned_last_month=\"0\" threatcloud_malware=\"0\" threatcloud_malware_detected_last_day=\"0\" threatcloud_malware_detected_last_week=\"0\" threatcloud_malware_detected_last_month=\"0\" filter_by_static_analysis=\"0\" filter_by_static_analysis_last_day=\"0\" filter_by_static_analysis_last_week=\"0\" filter_by_static_analysis_last_month=\"0\" cache_hit_rate=\"0\" cache_hit_rate_last_day=\"0\" cache_hit_rate_last_week=\"0\" cache_hit_rate_last_month=\"0\" error_count=\"0\" error_count_last_day=\"0\" error_count_last_week=\"0\" error_count_last_month=\"0\" no_resource_count=\"0\" no_resource_count_last_day=\"0\" no_resource_count_last_week=\"0\" no_resource_count_last_month=\"0\" product=\"Threat Emulation\" product_family=\"Network\"]',\n",
       "     'type': 'syslog'},\n",
       "    '_type': 'syslog'}],\n",
       "  'max_score': 1.0,\n",
       "  'total': 441016},\n",
       " 'timed_out': False,\n",
       " 'took': 22}"
      ]
     },
     "execution_count": 4,
     "metadata": {},
     "output_type": "execute_result"
    }
   ],
   "source": [
    "res = es.search(index=\"homequitybank-2016.09.01\", doc_type=\"syslog\",size=1, from_=10, body={\"query\": {\"match_all\":{}}})\n",
    "res"
   ]
  },
  {
   "cell_type": "code",
   "execution_count": 9,
   "metadata": {
    "collapsed": false
   },
   "outputs": [
    {
     "name": "stdout",
     "output_type": "stream",
     "text": [
      "{'took': 159, '_shards': {'successful': 5, 'failed': 0, 'total': 5}, 'timed_out': False, 'hits': {'hits': [{'_type': 'syslog', '_score': 0.06017124, '_index': 'homequitybank-2016.09.01', '_id': 'AVbkLoa_h76HlwhVejSE', '_source': {'type': 'syslog', 'customer': 'homequitybank', 'host': '172.16.1.3', '@timestamp': '2016-09-01T05:17:48.880Z', 'message': '<85>1 2016-09-01T01:17:46--4:00 192.168.1.11 CP-GW - Log [Fields@1.3.6.1.4.1.2620 Action=\" \" UUid=\"{0x57c7b9fa,0x0,0xb01a8c0,0x749507b6}\" roles=\"Anyuser\" product=\"VPN-1 & FireWall-1\" product_family=\"Network\"]', '@version': '1'}}], 'max_score': 0.06017124, 'total': 441006}}\n"
     ]
    }
   ],
   "source": [
    "res1 = es.search(index=\"homequitybank-2016.09.01\", doc_type=\"syslog\",size=1, from_=100, body={\n",
    "  \"query\": { \"bool\" : { \"must\" : { \"match\": { \"message\":\"product_family=\\\"Network\\\"\" } } } } })\n",
    "print(res1)"
   ]
  },
  {
   "cell_type": "code",
   "execution_count": 16,
   "metadata": {
    "collapsed": false
   },
   "outputs": [
    {
     "name": "stdout",
     "output_type": "stream",
     "text": [
      "{'Action': ' ', 'product_family': 'Network', 'UUid': '{0x57c78d8b,0x0,0xb01a8c0,0x749507b6}', 'product': 'VPN-1 & FireWall-1', 'roles': 'Anyuser'}\n"
     ]
    }
   ],
   "source": [
    "for x in range(1):\n",
    "    res = es.search(index=\"homequitybank-2016.09.01\", doc_type=\"syslog\",size=100, from_=x, body={\n",
    "  \"query\": { \"match\": { \"message\":\"product_family=\\\"Network\\\"\" } } } )\n",
    "    syslog = res['hits']['hits'][0]['_source']['message']\n",
    "    kv = re.findall(\"(\\w*=\\\".*?\\\")\",syslog)\n",
    "    sys_dict = {l[0]: l[1].strip(\"\\\"\") for l in [l.split(\"=\") for l in kv]}\n",
    "    print(sys_dict)"
   ]
  },
  {
   "cell_type": "code",
   "execution_count": null,
   "metadata": {
    "collapsed": true
   },
   "outputs": [],
   "source": []
  }
 ],
 "metadata": {
  "kernelspec": {
   "display_name": "Python 3",
   "language": "python",
   "name": "python3"
  },
  "language_info": {
   "codemirror_mode": {
    "name": "ipython",
    "version": 3
   },
   "file_extension": ".py",
   "mimetype": "text/x-python",
   "name": "python",
   "nbconvert_exporter": "python",
   "pygments_lexer": "ipython3",
   "version": "3.5.2"
  }
 },
 "nbformat": 4,
 "nbformat_minor": 1
}
