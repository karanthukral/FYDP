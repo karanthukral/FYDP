{
 "cells": [
  {
   "cell_type": "code",
   "execution_count": 1,
   "metadata": {
    "collapsed": true
   },
   "outputs": [],
   "source": [
    "from elasticsearch import Elasticsearch\n",
    "import re\n",
    "es = Elasticsearch()"
   ]
  },
  {
   "cell_type": "code",
   "execution_count": 2,
   "metadata": {
    "collapsed": false
   },
   "outputs": [
    {
     "data": {
      "text/plain": [
       "441016"
      ]
     },
     "execution_count": 2,
     "metadata": {},
     "output_type": "execute_result"
    }
   ],
   "source": [
    "syslog_count = es.count(index=\"homequitybank-2016.09.01\", doc_type=\"syslog\")['count']\n",
    "syslog_count"
   ]
  },
  {
   "cell_type": "code",
   "execution_count": 3,
   "metadata": {
    "collapsed": false
   },
   "outputs": [
    {
     "data": {
      "text/plain": [
       "{'_shards': {'failed': 0, 'successful': 5, 'total': 5},\n",
       " 'hits': {'hits': [{'_id': 'AVbjgTarh76HlwhVdgfF',\n",
       "    '_index': 'homequitybank-2016.09.01',\n",
       "    '_score': 1.0,\n",
       "    '_source': {'@timestamp': '2016-09-01T02:08:30.721Z',\n",
       "     '@version': '1',\n",
       "     'customer': 'homequitybank',\n",
       "     'host': '172.16.1.3',\n",
       "     'message': '<85>1 2016-08-31T22:08:30--4:00 192.168.1.11 CP-GW - Log [Fields@1.3.6.1.4.1.2620 Action=\" \" UUid=\"{0x0,0x0,0x0,0x0}\" log_id=\"4005\" file_type=\"pif\" scanned=\"0\" scanned_last_day=\"0\" scanned_last_week=\"0\" scanned_last_month=\"0\" malware_detected=\"0\" malware_detected_last_day=\"0\" malware_detected_last_week=\"0\" malware_detected_last_month=\"0\" threatcloud_scanned=\"0\" threatcloud_scanned_last_day=\"0\" threatcloud_scanned_last_week=\"0\" threatcloud_scanned_last_month=\"0\" threatcloud_malware=\"0\" threatcloud_malware_detected_last_day=\"0\" threatcloud_malware_detected_last_week=\"0\" threatcloud_malware_detected_last_month=\"0\" filter_by_static_analysis=\"0\" filter_by_static_analysis_last_day=\"0\" filter_by_static_analysis_last_week=\"0\" filter_by_static_analysis_last_month=\"0\" cache_hit_rate=\"0\" cache_hit_rate_last_day=\"0\" cache_hit_rate_last_week=\"0\" cache_hit_rate_last_month=\"0\" error_count=\"0\" error_count_last_day=\"0\" error_count_last_week=\"0\" error_count_last_month=\"0\" no_resource_count=\"0\" no_resource_count_last_day=\"0\" no_resource_count_last_week=\"0\" no_resource_count_last_month=\"0\" product=\"Threat Emulation\" product_family=\"Network\"]',\n",
       "     'type': 'syslog'},\n",
       "    '_type': 'syslog'}],\n",
       "  'max_score': 1.0,\n",
       "  'total': 441016},\n",
       " 'timed_out': False,\n",
       " 'took': 5}"
      ]
     },
     "execution_count": 3,
     "metadata": {},
     "output_type": "execute_result"
    }
   ],
   "source": [
    "res = es.search(index=\"homequitybank-2016.09.01\", doc_type=\"syslog\",size=1, from_=10, body={\"query\": {\"match_all\":{}}})\n",
    "res"
   ]
  },
  {
   "cell_type": "code",
   "execution_count": 4,
   "metadata": {
    "collapsed": false
   },
   "outputs": [
    {
     "name": "stdout",
     "output_type": "stream",
     "text": [
      "{'hits': {'hits': [{'_type': 'syslog', '_score': 0.27120787, '_source': {'customer': 'homequitybank', 'message': '<85>1 2016-08-31T22:40:56--4:00 192.168.1.11 CP-GW - Log [Fields@1.3.6.1.4.1.2620 Action=\" \" UUid=\"{0x57c79538,0x0,0xb01a8c0,0x749507b6}\" roles=\"Anyuser\" product=\"VPN-1 & FireWall-1\" product_family=\"Network\"]', '@timestamp': '2016-09-01T02:40:58.330Z', 'host': '172.16.1.3', 'type': 'syslog', '@version': '1'}, '_index': 'homequitybank-2016.09.01', '_id': 'AVbjnvADh76HlwhVdsSY'}], 'max_score': 0.27120787, 'total': 441006}, '_shards': {'failed': 0, 'successful': 5, 'total': 5}, 'timed_out': False, 'took': 41}\n"
     ]
    }
   ],
   "source": [
    "res1 = es.search(index=\"homequitybank-2016.09.01\", doc_type=\"syslog\",size=1, from_=10, body={\n",
    "  \"query\": { \"bool\" : { \"must\" : { \"match\": { \"message\":\"product_family=\\\"Network\\\"\" } } } } })\n",
    "print(res1)"
   ]
  },
  {
   "cell_type": "code",
   "execution_count": 5,
   "metadata": {
    "collapsed": false
   },
   "outputs": [
    {
     "name": "stdout",
     "output_type": "stream",
     "text": [
      "{'UUid': '{0x57c81ed1,0x1d,0x30110ac,0xc0000000}', 'src': '172.16.5.96', 'Action': 'allow'}\n",
      "{'UUid': '{0x0,0x0,0x0,0x0}', 'product': 'VPN-1 & FireWall-1', 'service': '500', 'src': '162.253.141.34', 'dst': '68.71.192.207', 'message_info': 'Address spoofing', 'product_family': 'Network', 's_port': '500', 'Action': 'monitor', 'proto': '17'}\n",
      "{'UUid': '{0x0,0x0,0x0,0x0}', 'product': 'VPN-1 & FireWall-1', 'service': '23', 'src': '89.121.178.145', 'dst': '68.71.192.246', 'message_info': 'Address spoofing', 'product_family': 'Network', 's_port': '50554', 'Action': 'monitor', 'proto': '6'}\n",
      "{'UUid': '{0x0,0x0,0x0,0x0}', 'product': 'VPN-1 & FireWall-1', 'service': '23', 'src': '123.14.222.251', 'dst': '68.71.192.239', 'message_info': 'Address spoofing', 'product_family': 'Network', 's_port': '35300', 'Action': 'monitor', 'proto': '6'}\n",
      "{'UUid': '{0x0,0x0,0x0,0x0}', 'product': 'VPN-1 & FireWall-1', 'service': '137', 'src': '208.100.26.228', 'dst': '68.71.192.247', 'message_info': 'Address spoofing', 'product_family': 'Network', 's_port': '51661', 'Action': 'monitor', 'proto': '6'}\n",
      "{'UUid': '{0x0,0x0,0x0,0x0}', 'product': 'VPN-1 & FireWall-1', 'product_family': 'Network', 'src': '209.153.235.102', 'dst': '184.105.139.82', 'message_info': 'Address spoofing', 'Action': 'monitor', 'proto': '1'}\n",
      "{'UUid': '{0x0,0x0,0x0,0x0}', 'product': 'VPN-1 & FireWall-1', 'service': '500', 'src': '209.153.235.102', 'dst': '68.71.192.207', 'message_info': 'Address spoofing', 'product_family': 'Network', 's_port': '500', 'Action': 'monitor', 'proto': '17'}\n",
      "{'UUid': '{0x0,0x0,0x0,0x0}', 'product': 'VPN-1 & FireWall-1', 'service': '500', 'src': '162.253.141.34', 'dst': '68.71.192.207', 'message_info': 'Address spoofing', 'product_family': 'Network', 's_port': '500', 'Action': 'monitor', 'proto': '17'}\n",
      "{'UUid': '{0x0,0x0,0x0,0x0}', 'product': 'VPN-1 & FireWall-1', 'service': '2049', 'src': '23.82.46.210', 'dst': '68.71.192.233', 'message_info': 'Address spoofing', 'product_family': 'Network', 's_port': '45640', 'Action': 'monitor', 'proto': '6'}\n",
      "{'UUid': '{0x0,0x0,0x0,0x0}', 'product': 'VPN-1 & FireWall-1', 'service': '23', 'src': '91.122.35.110', 'dst': '68.71.192.254', 'message_info': 'Address spoofing', 'product_family': 'Network', 's_port': '48655', 'Action': 'monitor', 'proto': '6'}\n"
     ]
    }
   ],
   "source": [
    "all_keys = set([])\n",
    "for x in range(10):\n",
    "    res = es.search(index=\"homequitybank-2016.09.01\", doc_type=\"syslog\",size=1, from_=x, body={\n",
    "  \"query\": { \"match\": { \"message\":\"src=\" , \"message\":\"dst\"} } } )\n",
    "    syslog = res['hits']['hits'][0]['_source']['message']\n",
    "    kv = re.findall(\"(\\w*=\\\".*?\\\")\",syslog)\n",
    "    sys_dict = {l[0]: l[1].strip(\"\\\"\") for l in [l.split(\"=\") for l in kv]}\n",
    "    print(sys_dict)\n",
    "    for key in sys_dict:\n",
    "        all_keys.add(key)"
   ]
  },
  {
   "cell_type": "code",
   "execution_count": 6,
   "metadata": {
    "collapsed": false
   },
   "outputs": [
    {
     "data": {
      "text/plain": [
       "{'Action',\n",
       " 'UUid',\n",
       " 'dst',\n",
       " 'message_info',\n",
       " 'product',\n",
       " 'product_family',\n",
       " 'proto',\n",
       " 's_port',\n",
       " 'service',\n",
       " 'src'}"
      ]
     },
     "execution_count": 6,
     "metadata": {},
     "output_type": "execute_result"
    }
   ],
   "source": [
    "all_keys"
   ]
  },
  {
   "cell_type": "code",
   "execution_count": null,
   "metadata": {
    "collapsed": true
   },
   "outputs": [],
   "source": []
  }
 ],
 "metadata": {
  "kernelspec": {
   "display_name": "Python 3",
   "language": "python",
   "name": "python3"
  },
  "language_info": {
   "codemirror_mode": {
    "name": "ipython",
    "version": 3
   },
   "file_extension": ".py",
   "mimetype": "text/x-python",
   "name": "python",
   "nbconvert_exporter": "python",
   "pygments_lexer": "ipython3",
   "version": "3.5.2"
  }
 },
 "nbformat": 4,
 "nbformat_minor": 1
}
