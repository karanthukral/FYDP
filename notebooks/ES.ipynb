{
 "cells": [
  {
   "cell_type": "code",
   "execution_count": 1,
   "metadata": {
    "collapsed": true
   },
   "outputs": [],
   "source": [
    "from elasticsearch import Elasticsearch\n",
    "import re\n",
    "es = Elasticsearch()"
   ]
  },
  {
   "cell_type": "code",
   "execution_count": 2,
   "metadata": {
    "collapsed": false
   },
   "outputs": [
    {
     "data": {
      "text/plain": [
       "441016"
      ]
     },
     "execution_count": 2,
     "metadata": {},
     "output_type": "execute_result"
    }
   ],
   "source": [
    "syslog_count = es.count(index=\"homequitybank-2016.09.01\", doc_type=\"syslog\")['count']\n",
    "syslog_count"
   ]
  },
  {
   "cell_type": "code",
   "execution_count": 3,
   "metadata": {
    "collapsed": false
   },
   "outputs": [
    {
     "data": {
      "text/plain": [
       "{'_shards': {'failed': 0, 'successful': 5, 'total': 5},\n",
       " 'hits': {'hits': [{'_id': 'AVbjgTarh76HlwhVdgfF',\n",
       "    '_index': 'homequitybank-2016.09.01',\n",
       "    '_score': 1.0,\n",
       "    '_source': {'@timestamp': '2016-09-01T02:08:30.721Z',\n",
       "     '@version': '1',\n",
       "     'customer': 'homequitybank',\n",
       "     'host': '172.16.1.3',\n",
       "     'message': '<85>1 2016-08-31T22:08:30--4:00 192.168.1.11 CP-GW - Log [Fields@1.3.6.1.4.1.2620 Action=\" \" UUid=\"{0x0,0x0,0x0,0x0}\" log_id=\"4005\" file_type=\"pif\" scanned=\"0\" scanned_last_day=\"0\" scanned_last_week=\"0\" scanned_last_month=\"0\" malware_detected=\"0\" malware_detected_last_day=\"0\" malware_detected_last_week=\"0\" malware_detected_last_month=\"0\" threatcloud_scanned=\"0\" threatcloud_scanned_last_day=\"0\" threatcloud_scanned_last_week=\"0\" threatcloud_scanned_last_month=\"0\" threatcloud_malware=\"0\" threatcloud_malware_detected_last_day=\"0\" threatcloud_malware_detected_last_week=\"0\" threatcloud_malware_detected_last_month=\"0\" filter_by_static_analysis=\"0\" filter_by_static_analysis_last_day=\"0\" filter_by_static_analysis_last_week=\"0\" filter_by_static_analysis_last_month=\"0\" cache_hit_rate=\"0\" cache_hit_rate_last_day=\"0\" cache_hit_rate_last_week=\"0\" cache_hit_rate_last_month=\"0\" error_count=\"0\" error_count_last_day=\"0\" error_count_last_week=\"0\" error_count_last_month=\"0\" no_resource_count=\"0\" no_resource_count_last_day=\"0\" no_resource_count_last_week=\"0\" no_resource_count_last_month=\"0\" product=\"Threat Emulation\" product_family=\"Network\"]',\n",
       "     'type': 'syslog'},\n",
       "    '_type': 'syslog'}],\n",
       "  'max_score': 1.0,\n",
       "  'total': 441016},\n",
       " 'timed_out': False,\n",
       " 'took': 26}"
      ]
     },
     "execution_count": 3,
     "metadata": {},
     "output_type": "execute_result"
    }
   ],
   "source": [
    "res = es.search(index=\"homequitybank-2016.09.01\", doc_type=\"syslog\",size=1, from_=10, body={\"query\": {\"match_all\":{}}})\n",
    "res"
   ]
  },
  {
   "cell_type": "code",
   "execution_count": 5,
   "metadata": {
    "collapsed": false
   },
   "outputs": [
    {
     "name": "stdout",
     "output_type": "stream",
     "text": [
      "{'timed_out': False, 'hits': {'max_score': 0.06017124, 'total': 441006, 'hits': [{'_type': 'syslog', '_id': 'AVbjnvADh76HlwhVdsSY', '_index': 'homequitybank-2016.09.01', '_source': {'host': '172.16.1.3', '@version': '1', 'message': '<85>1 2016-08-31T22:40:56--4:00 192.168.1.11 CP-GW - Log [Fields@1.3.6.1.4.1.2620 Action=\" \" UUid=\"{0x57c79538,0x0,0xb01a8c0,0x749507b6}\" roles=\"Anyuser\" product=\"VPN-1 & FireWall-1\" product_family=\"Network\"]', 'customer': 'homequitybank', '@timestamp': '2016-09-01T02:40:58.330Z', 'type': 'syslog'}, '_score': 0.06017124}]}, 'took': 41, '_shards': {'failed': 0, 'total': 5, 'successful': 5}}\n"
     ]
    }
   ],
   "source": [
    "res1 = es.search(index=\"homequitybank-2016.09.01\", doc_type=\"syslog\",size=1, from_=10, body={\n",
    "  \"query\": { \"bool\" : { \"must\" : { \"match\": { \"message\":\"product_family=\\\"Network\\\"\" } } } } })\n",
    "print(res1)"
   ]
  },
  {
   "cell_type": "code",
   "execution_count": 19,
   "metadata": {
    "collapsed": false
   },
   "outputs": [
    {
     "name": "stdout",
     "output_type": "stream",
     "text": [
      "{'UUid': '{0x57c81ed1,0x1d,0x30110ac,0xc0000000}', 'Action': 'allow', 'src': '172.16.5.96'}\n",
      "{'proto': '17', 'dst': '68.71.192.207', 'product': 'VPN-1 & FireWall-1', 'UUid': '{0x0,0x0,0x0,0x0}', 'product_family': 'Network', 'Action': 'monitor', 'message_info': 'Address spoofing', 's_port': '500', 'src': '162.253.141.34', 'service': '500'}\n",
      "{'proto': '6', 'dst': '68.71.192.246', 'product': 'VPN-1 & FireWall-1', 'UUid': '{0x0,0x0,0x0,0x0}', 'product_family': 'Network', 'Action': 'monitor', 'message_info': 'Address spoofing', 's_port': '50554', 'src': '89.121.178.145', 'service': '23'}\n",
      "{'proto': '6', 'dst': '68.71.192.239', 'product': 'VPN-1 & FireWall-1', 'UUid': '{0x0,0x0,0x0,0x0}', 'product_family': 'Network', 'Action': 'monitor', 'message_info': 'Address spoofing', 's_port': '35300', 'src': '123.14.222.251', 'service': '23'}\n",
      "{'proto': '6', 'dst': '68.71.192.247', 'product': 'VPN-1 & FireWall-1', 'UUid': '{0x0,0x0,0x0,0x0}', 'product_family': 'Network', 'Action': 'monitor', 'message_info': 'Address spoofing', 's_port': '51661', 'src': '208.100.26.228', 'service': '137'}\n",
      "{'proto': '1', 'dst': '184.105.139.82', 'product': 'VPN-1 & FireWall-1', 'UUid': '{0x0,0x0,0x0,0x0}', 'product_family': 'Network', 'Action': 'monitor', 'message_info': 'Address spoofing', 'src': '209.153.235.102'}\n",
      "{'proto': '17', 'dst': '192.168.255.6', 'product': 'VPN-1 & FireWall-1', 'UUid': '{0x0,0x0,0x0,0x0}', 'product_family': 'Network', 'Action': 'monitor', 'message_info': 'Address spoofing', 's_port': '52752', 'src': '192.168.255.2', 'service': '1967'}\n",
      "{'proto': '17', 'dst': '68.71.192.207', 'product': 'VPN-1 & FireWall-1', 'UUid': '{0x0,0x0,0x0,0x0}', 'product_family': 'Network', 'Action': 'monitor', 'message_info': 'Address spoofing', 's_port': '500', 'src': '162.253.141.34', 'service': '500'}\n",
      "{'proto': '6', 'dst': '68.71.192.243', 'product': 'VPN-1 & FireWall-1', 'UUid': '{0x0,0x0,0x0,0x0}', 'product_family': 'Network', 'Action': 'monitor', 'message_info': 'Address spoofing', 's_port': '28382', 'src': '210.6.189.154', 'service': '23'}\n",
      "{'proto': '17', 'dst': '68.71.192.207', 'product': 'VPN-1 & FireWall-1', 'UUid': '{0x0,0x0,0x0,0x0}', 'product_family': 'Network', 'Action': 'monitor', 'message_info': 'Address spoofing', 's_port': '500', 'src': '162.253.141.34', 'service': '500'}\n"
     ]
    }
   ],
   "source": [
    "for x in range(10):\n",
    "    res = es.search(index=\"homequitybank-2016.09.01\", doc_type=\"syslog\",size=1, from_=x, body={\n",
    "  \"query\": { \"match\": { \"message\":\"src=\" , \"message\":\"dst\"} } } )\n",
    "    syslog = res['hits']['hits'][0]['_source']['message']\n",
    "    kv = re.findall(\"(\\w*=\\\".*?\\\")\",syslog)\n",
    "    sys_dict = {l[0]: l[1].strip(\"\\\"\") for l in [l.split(\"=\") for l in kv]}\n",
    "    print(sys_dict)"
   ]
  },
  {
   "cell_type": "code",
   "execution_count": null,
   "metadata": {
    "collapsed": true
   },
   "outputs": [],
   "source": []
  }
 ],
 "metadata": {
  "kernelspec": {
   "display_name": "Python 3",
   "language": "python",
   "name": "python3"
  },
  "language_info": {
   "codemirror_mode": {
    "name": "ipython",
    "version": 3
   },
   "file_extension": ".py",
   "mimetype": "text/x-python",
   "name": "python",
   "nbconvert_exporter": "python",
   "pygments_lexer": "ipython3",
   "version": "3.5.2"
  }
 },
 "nbformat": 4,
 "nbformat_minor": 1
}
